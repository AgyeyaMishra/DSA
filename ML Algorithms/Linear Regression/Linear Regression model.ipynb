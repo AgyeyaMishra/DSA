{
  "nbformat": 4,
  "nbformat_minor": 0,
  "metadata": {
    "colab": {
      "name": "19BCE1730-LPS-4-CSE4020.ipynb",
      "provenance": [],
      "collapsed_sections": []
    },
    "kernelspec": {
      "name": "python3",
      "display_name": "Python 3"
    },
    "language_info": {
      "name": "python"
    }
  },
  "cells": [
    {
      "cell_type": "markdown",
      "metadata": {
        "id": "l1TiCM2c_Bne"
      },
      "source": [
        "\n",
        "\n",
        "**Code of Academic Integrity:**\n",
        "\n",
        "I affirm that:\n",
        "*   This work is my own original work and is not a borrowed work,either from other students or from assignments for other courses\n",
        "* I have not given or received any unauthorized help on this assignment.\n",
        "*This submission is free from\n",
        "  -\tPlagiarism\n",
        "  -\tFabrication of facts\n",
        "  -\tUnauthorized assistance\n",
        "  -\tCollusion\n",
        "*\tThis submission gives proper credit to sources and references, acknowledges the contributions and ideas of others relevant to this academic work.\n",
        "*\tThis submission was prepared by me fully adhering to the rules that govern this assignment regarding resource material, electronic aids, copying, collaborating with others, or engaging in any other behavior that subverts the purpose of the assignment and the directions of the teacher."
      ]
    },
    {
      "cell_type": "markdown",
      "metadata": {
        "id": "jjkeREUyby8-"
      },
      "source": [
        "**1) Generate a data set which corresponds to the equation r = 3x+5,\n",
        "with 500 data points. You can generate this data set either using\n",
        "`Symbolic regression\n",
        "classi\fcation generator.py' or using an excel sheet. Partition the\n",
        "dataset into training data and the test data in the ratio of 75:25.**\n",
        "***(a) Train a simple linear regression model(choosing the hypothe-\n",
        "sis w0+w1x) with that dataset and learn the equation that \fts\n",
        "the dataset. Check whether the coe\u000ecient of x in the equation\n",
        "you have \ft is 3 (or nearer to 3) and the bias (in the equation\n",
        "you have \ft ) is 5 (or nearer to 5)***"
      ]
    },
    {
      "cell_type": "code",
      "metadata": {
        "id": "G8lYJiCgFTJy"
      },
      "source": [
        "from Symbolic_regression_classification_generator import gen_regression_symbolic, gen_classification_symbolic"
      ],
      "execution_count": 123,
      "outputs": []
    },
    {
      "cell_type": "code",
      "metadata": {
        "colab": {
          "base_uri": "https://localhost:8080/",
          "height": 203
        },
        "id": "5_slNa4Wb4LD",
        "outputId": "e2836a57-c4fa-4875-929b-6ac86f13bb2a"
      },
      "source": [
        "import numpy as np\n",
        "import pandas as pd\n",
        "import matplotlib.pyplot as plt\n",
        "import seaborn as sns\n",
        "data = gen_regression_symbolic(m='3*x + 5',n_samples=500)\n",
        "df = pd.DataFrame(data, columns=['x']+['r'])\n",
        "df = df.dropna()\n",
        "df.head()"
      ],
      "execution_count": 124,
      "outputs": [
        {
          "output_type": "execute_result",
          "data": {
            "text/html": [
              "<div>\n",
              "<style scoped>\n",
              "    .dataframe tbody tr th:only-of-type {\n",
              "        vertical-align: middle;\n",
              "    }\n",
              "\n",
              "    .dataframe tbody tr th {\n",
              "        vertical-align: top;\n",
              "    }\n",
              "\n",
              "    .dataframe thead th {\n",
              "        text-align: right;\n",
              "    }\n",
              "</style>\n",
              "<table border=\"1\" class=\"dataframe\">\n",
              "  <thead>\n",
              "    <tr style=\"text-align: right;\">\n",
              "      <th></th>\n",
              "      <th>x</th>\n",
              "      <th>r</th>\n",
              "    </tr>\n",
              "  </thead>\n",
              "  <tbody>\n",
              "    <tr>\n",
              "      <th>0</th>\n",
              "      <td>3.05748</td>\n",
              "      <td>14.1724500617803</td>\n",
              "    </tr>\n",
              "    <tr>\n",
              "      <th>1</th>\n",
              "      <td>-3.03714</td>\n",
              "      <td>-4.11143352855165</td>\n",
              "    </tr>\n",
              "    <tr>\n",
              "      <th>2</th>\n",
              "      <td>2.02433</td>\n",
              "      <td>11.0729819218972</td>\n",
              "    </tr>\n",
              "    <tr>\n",
              "      <th>3</th>\n",
              "      <td>-0.0849406</td>\n",
              "      <td>4.74517810308880</td>\n",
              "    </tr>\n",
              "    <tr>\n",
              "      <th>4</th>\n",
              "      <td>2.30744</td>\n",
              "      <td>11.9223264146723</td>\n",
              "    </tr>\n",
              "  </tbody>\n",
              "</table>\n",
              "</div>"
            ],
            "text/plain": [
              "           x                  r\n",
              "0    3.05748   14.1724500617803\n",
              "1   -3.03714  -4.11143352855165\n",
              "2    2.02433   11.0729819218972\n",
              "3 -0.0849406   4.74517810308880\n",
              "4    2.30744   11.9223264146723"
            ]
          },
          "metadata": {},
          "execution_count": 124
        }
      ]
    },
    {
      "cell_type": "code",
      "metadata": {
        "colab": {
          "base_uri": "https://localhost:8080/",
          "height": 203
        },
        "id": "5YdL6yswb63P",
        "outputId": "e3907781-0805-41c8-cd0c-3ba50405c4c2"
      },
      "source": [
        "test_df = df.iloc[-100:]\n",
        "test_df.head()"
      ],
      "execution_count": 125,
      "outputs": [
        {
          "output_type": "execute_result",
          "data": {
            "text/html": [
              "<div>\n",
              "<style scoped>\n",
              "    .dataframe tbody tr th:only-of-type {\n",
              "        vertical-align: middle;\n",
              "    }\n",
              "\n",
              "    .dataframe tbody tr th {\n",
              "        vertical-align: top;\n",
              "    }\n",
              "\n",
              "    .dataframe thead th {\n",
              "        text-align: right;\n",
              "    }\n",
              "</style>\n",
              "<table border=\"1\" class=\"dataframe\">\n",
              "  <thead>\n",
              "    <tr style=\"text-align: right;\">\n",
              "      <th></th>\n",
              "      <th>x</th>\n",
              "      <th>r</th>\n",
              "    </tr>\n",
              "  </thead>\n",
              "  <tbody>\n",
              "    <tr>\n",
              "      <th>400</th>\n",
              "      <td>-0.368266</td>\n",
              "      <td>3.89520073702818</td>\n",
              "    </tr>\n",
              "    <tr>\n",
              "      <th>401</th>\n",
              "      <td>-0.407399</td>\n",
              "      <td>3.77780352742237</td>\n",
              "    </tr>\n",
              "    <tr>\n",
              "      <th>402</th>\n",
              "      <td>5.66756</td>\n",
              "      <td>22.0026866917745</td>\n",
              "    </tr>\n",
              "    <tr>\n",
              "      <th>403</th>\n",
              "      <td>3.5025</td>\n",
              "      <td>15.5074870451882</td>\n",
              "    </tr>\n",
              "    <tr>\n",
              "      <th>404</th>\n",
              "      <td>-3.46176</td>\n",
              "      <td>-5.38527235646995</td>\n",
              "    </tr>\n",
              "  </tbody>\n",
              "</table>\n",
              "</div>"
            ],
            "text/plain": [
              "            x                  r\n",
              "400 -0.368266   3.89520073702818\n",
              "401 -0.407399   3.77780352742237\n",
              "402   5.66756   22.0026866917745\n",
              "403    3.5025   15.5074870451882\n",
              "404  -3.46176  -5.38527235646995"
            ]
          },
          "metadata": {},
          "execution_count": 125
        }
      ]
    },
    {
      "cell_type": "code",
      "metadata": {
        "colab": {
          "base_uri": "https://localhost:8080/",
          "height": 203
        },
        "id": "6FfLPWMob-DN",
        "outputId": "6db0ebb2-09da-4942-a5e1-a86d786ae819"
      },
      "source": [
        "df['x_sqr'] = df['x']**2\n",
        "df['r_sqr'] = df['r']**2\n",
        "df['xr'] = df['x']*df['r']\n",
        "df.head()"
      ],
      "execution_count": 126,
      "outputs": [
        {
          "output_type": "execute_result",
          "data": {
            "text/html": [
              "<div>\n",
              "<style scoped>\n",
              "    .dataframe tbody tr th:only-of-type {\n",
              "        vertical-align: middle;\n",
              "    }\n",
              "\n",
              "    .dataframe tbody tr th {\n",
              "        vertical-align: top;\n",
              "    }\n",
              "\n",
              "    .dataframe thead th {\n",
              "        text-align: right;\n",
              "    }\n",
              "</style>\n",
              "<table border=\"1\" class=\"dataframe\">\n",
              "  <thead>\n",
              "    <tr style=\"text-align: right;\">\n",
              "      <th></th>\n",
              "      <th>x</th>\n",
              "      <th>r</th>\n",
              "      <th>x_sqr</th>\n",
              "      <th>r_sqr</th>\n",
              "      <th>xr</th>\n",
              "    </tr>\n",
              "  </thead>\n",
              "  <tbody>\n",
              "    <tr>\n",
              "      <th>0</th>\n",
              "      <td>3.05748</td>\n",
              "      <td>14.1724500617803</td>\n",
              "      <td>9.3482</td>\n",
              "      <td>200.858340753655</td>\n",
              "      <td>43.3320301482513</td>\n",
              "    </tr>\n",
              "    <tr>\n",
              "      <th>1</th>\n",
              "      <td>-3.03714</td>\n",
              "      <td>-4.11143352855165</td>\n",
              "      <td>9.22425</td>\n",
              "      <td>16.9038856596987</td>\n",
              "      <td>12.4870177674856</td>\n",
              "    </tr>\n",
              "    <tr>\n",
              "      <th>2</th>\n",
              "      <td>2.02433</td>\n",
              "      <td>11.0729819218972</td>\n",
              "      <td>4.0979</td>\n",
              "      <td>122.610928642662</td>\n",
              "      <td>22.4153396777254</td>\n",
              "    </tr>\n",
              "    <tr>\n",
              "      <th>3</th>\n",
              "      <td>-0.0849406</td>\n",
              "      <td>4.74517810308880</td>\n",
              "      <td>0.00721491</td>\n",
              "      <td>22.5167152300334</td>\n",
              "      <td>-0.403058428470194</td>\n",
              "    </tr>\n",
              "    <tr>\n",
              "      <th>4</th>\n",
              "      <td>2.30744</td>\n",
              "      <td>11.9223264146723</td>\n",
              "      <td>5.32429</td>\n",
              "      <td>142.141867137993</td>\n",
              "      <td>27.5100783548771</td>\n",
              "    </tr>\n",
              "  </tbody>\n",
              "</table>\n",
              "</div>"
            ],
            "text/plain": [
              "           x                  r  ...             r_sqr                  xr\n",
              "0    3.05748   14.1724500617803  ...  200.858340753655    43.3320301482513\n",
              "1   -3.03714  -4.11143352855165  ...  16.9038856596987    12.4870177674856\n",
              "2    2.02433   11.0729819218972  ...  122.610928642662    22.4153396777254\n",
              "3 -0.0849406   4.74517810308880  ...  22.5167152300334  -0.403058428470194\n",
              "4    2.30744   11.9223264146723  ...  142.141867137993    27.5100783548771\n",
              "\n",
              "[5 rows x 5 columns]"
            ]
          },
          "metadata": {},
          "execution_count": 126
        }
      ]
    },
    {
      "cell_type": "code",
      "metadata": {
        "colab": {
          "base_uri": "https://localhost:8080/",
          "height": 37
        },
        "id": "084I4F7Ab-75",
        "outputId": "34205170-e415-405c-8eb9-6f553a9a4727"
      },
      "source": [
        "size = df['x'].size\n",
        "w1 = (sum(df['xr']) - sum(df['x'])*sum(df['r']/size)) /(sum(df['x_sqr'])-(sum(df['x'])**2/size))\n",
        "w1"
      ],
      "execution_count": 127,
      "outputs": [
        {
          "output_type": "execute_result",
          "data": {
            "text/latex": "$\\displaystyle 3.0$",
            "text/plain": [
              "3.00000000000000"
            ]
          },
          "metadata": {},
          "execution_count": 127
        }
      ]
    },
    {
      "cell_type": "code",
      "metadata": {
        "colab": {
          "base_uri": "https://localhost:8080/",
          "height": 37
        },
        "id": "sXc7VgkJcA03",
        "outputId": "c1b93ba1-df48-4391-c8f6-cdb8d7ed3689"
      },
      "source": [
        "w0 = sum(df['r'])/size - w1*sum(df['x'])/size\n",
        "w0"
      ],
      "execution_count": 128,
      "outputs": [
        {
          "output_type": "execute_result",
          "data": {
            "text/latex": "$\\displaystyle 5.0$",
            "text/plain": [
              "5.00000000000000"
            ]
          },
          "metadata": {},
          "execution_count": 128
        }
      ]
    },
    {
      "cell_type": "markdown",
      "metadata": {
        "id": "5kXQP8FDcC2o"
      },
      "source": [
        "Both 'w0' and 'w1' are exactly equal to 5 and 3 respectively."
      ]
    },
    {
      "cell_type": "markdown",
      "metadata": {
        "id": "jhVXeqwmcE4-"
      },
      "source": [
        "***(b) Compute the performance measure of the SLR model that\n",
        "you have trained***"
      ]
    },
    {
      "cell_type": "code",
      "metadata": {
        "colab": {
          "base_uri": "https://localhost:8080/"
        },
        "id": "9LjvWlSYcHLe",
        "outputId": "34ea3bc4-5e4f-423e-e526-f43b3a714dac"
      },
      "source": [
        "predicted = w0+w1*df['x']\n",
        "predicted.head()"
      ],
      "execution_count": 129,
      "outputs": [
        {
          "output_type": "execute_result",
          "data": {
            "text/plain": [
              "0     14.1724500617803\n",
              "1    -4.11143352855165\n",
              "2     11.0729819218972\n",
              "3     4.74517810308880\n",
              "4     11.9223264146723\n",
              "Name: x, dtype: object"
            ]
          },
          "metadata": {},
          "execution_count": 129
        }
      ]
    },
    {
      "cell_type": "code",
      "metadata": {
        "id": "yoX33ynbcLWS"
      },
      "source": [
        "test_predicted = w0+w1*test_df['x']\n",
        "test_size = df['x'].size"
      ],
      "execution_count": 130,
      "outputs": []
    },
    {
      "cell_type": "markdown",
      "metadata": {
        "id": "GRoXa2QxcMFD"
      },
      "source": [
        "***(c) Compute the error in the training data set and the test data\n",
        "set.***"
      ]
    },
    {
      "cell_type": "code",
      "metadata": {
        "colab": {
          "base_uri": "https://localhost:8080/",
          "height": 37
        },
        "id": "_TdcOZB3cN1b",
        "outputId": "5e79337d-9b6a-4ccc-d152-651f33aedbd8"
      },
      "source": [
        "e1 = sum((df['r']-predicted)**2)/size\n",
        "e1"
      ],
      "execution_count": 131,
      "outputs": [
        {
          "output_type": "execute_result",
          "data": {
            "text/latex": "$\\displaystyle 3.09939505356809 \\cdot 10^{-29}$",
            "text/plain": [
              "3.09939505356809e-29"
            ]
          },
          "metadata": {},
          "execution_count": 131
        }
      ]
    },
    {
      "cell_type": "code",
      "metadata": {
        "colab": {
          "base_uri": "https://localhost:8080/",
          "height": 37
        },
        "id": "IKV4Xmy7cSl6",
        "outputId": "80bcc599-c16e-4fd6-f6ae-c6bf3abd6f51"
      },
      "source": [
        "et1 = sum((test_df['r']-test_predicted)**2)/test_size\n",
        "et1"
      ],
      "execution_count": 132,
      "outputs": [
        {
          "output_type": "execute_result",
          "data": {
            "text/latex": "$\\displaystyle 6.32272015534641 \\cdot 10^{-30}$",
            "text/plain": [
              "6.32272015534641e-30"
            ]
          },
          "metadata": {},
          "execution_count": 132
        }
      ]
    },
    {
      "cell_type": "markdown",
      "metadata": {
        "id": "dGzU9SQncVM8"
      },
      "source": [
        "***(d) Repeat the above experiment by changing the size of the\n",
        "dataset generated by you in steps of 100, starting from 500 to\n",
        "1500.In all the experiments, keep the ratio between training\n",
        "data to test data set as 75:20.***"
      ]
    },
    {
      "cell_type": "code",
      "metadata": {
        "id": "4lj5jaTrcVz2"
      },
      "source": [
        "data = gen_regression_symbolic(m='3*x + 5',n_samples=600)\n",
        "df = pd.DataFrame(data, columns=['x']+['r'])\n",
        "df = df.dropna()\n",
        "test_df = df.iloc[-150:]\n",
        "df['x_sqr'] = df['x']**2\n",
        "df['r_sqr'] = df['r']**2\n",
        "df['xr'] = df['x']*df['r']\n",
        "w1 = (sum(df['xr']) - sum(df['x'])*sum(df['r']/size)) /(sum(df['x_sqr'])-(sum(df['x'])**2/size))\n",
        "w0 = sum(df['r'])/size - w1*sum(df['x'])/size\n",
        "predicted = w0+w1*df['x']\n",
        "e2 = sum((df['r']-predicted)**2)/size\n",
        "et2 = sum((test_df['r']-test_predicted)**2)/test_size\n",
        "data = gen_regression_symbolic(m='3*x + 5',n_samples=700)\n",
        "df = pd.DataFrame(data, columns=['x']+['r'])\n",
        "df = df.dropna()\n",
        "test_df = df.iloc[-175:]\n",
        "df['x_sqr'] = df['x']**2\n",
        "df['r_sqr'] = df['r']**2\n",
        "df['xr'] = df['x']*df['r']\n",
        "w1 = (sum(df['xr']) - sum(df['x'])*sum(df['r']/size)) /(sum(df['x_sqr'])-(sum(df['x'])**2/size))\n",
        "w0 = sum(df['r'])/size - w1*sum(df['x'])/size\n",
        "predicted = w0+w1*df['x']\n",
        "e3 = sum((df['r']-predicted)**2)/size\n",
        "et3 = sum((test_df['r']-test_predicted)**2)/test_size\n",
        "data = gen_regression_symbolic(m='3*x + 5',n_samples=800)\n",
        "df = pd.DataFrame(data, columns=['x']+['r'])\n",
        "df = df.dropna()\n",
        "test_df = df.iloc[-200:]\n",
        "df['x_sqr'] = df['x']**2\n",
        "df['r_sqr'] = df['r']**2\n",
        "df['xr'] = df['x']*df['r']\n",
        "w1 = (sum(df['xr']) - sum(df['x'])*sum(df['r']/size)) /(sum(df['x_sqr'])-(sum(df['x'])**2/size))\n",
        "w0 = sum(df['r'])/size - w1*sum(df['x'])/size\n",
        "predicted = w0+w1*df['x']\n",
        "e4 = sum((df['r']-predicted)**2)/size\n",
        "et4 = sum((test_df['r']-test_predicted)**2)/test_size\n",
        "data = gen_regression_symbolic(m='3*x + 5',n_samples=900)\n",
        "df = pd.DataFrame(data, columns=['x']+['r'])\n",
        "df = df.dropna()\n",
        "test_df = df.iloc[-225:]\n",
        "df['x_sqr'] = df['x']**2\n",
        "df['r_sqr'] = df['r']**2\n",
        "df['xr'] = df['x']*df['r']\n",
        "w1 = (sum(df['xr']) - sum(df['x'])*sum(df['r']/size)) /(sum(df['x_sqr'])-(sum(df['x'])**2/size))\n",
        "w0 = sum(df['r'])/size - w1*sum(df['x'])/size\n",
        "predicted = w0+w1*df['x']\n",
        "e5 = sum((df['r']-predicted)**2)/size\n",
        "et5 = sum((test_df['r']-test_predicted)**2)/test_size\n",
        "data = gen_regression_symbolic(m='3*x + 5',n_samples=1000)\n",
        "df = pd.DataFrame(data, columns=['x']+['r'])\n",
        "df = df.dropna()\n",
        "test_df = df.iloc[-250:]\n",
        "df['x_sqr'] = df['x']**2\n",
        "df['r_sqr'] = df['r']**2\n",
        "df['xr'] = df['x']*df['r']\n",
        "w1 = (sum(df['xr']) - sum(df['x'])*sum(df['r']/size)) /(sum(df['x_sqr'])-(sum(df['x'])**2/size))\n",
        "w0 = sum(df['r'])/size - w1*sum(df['x'])/size\n",
        "predicted = w0+w1*df['x']\n",
        "e6 = sum((df['r']-predicted)**2)/size\n",
        "et6 = sum((test_df['r']-test_predicted)**2)/test_size\n",
        "data = gen_regression_symbolic(m='3*x + 5',n_samples=1100)\n",
        "df = pd.DataFrame(data, columns=['x']+['r'])\n",
        "df = df.dropna()\n",
        "test_df = df.iloc[-275:]\n",
        "df['x_sqr'] = df['x']**2\n",
        "df['r_sqr'] = df['r']**2\n",
        "df['xr'] = df['x']*df['r']\n",
        "w1 = (sum(df['xr']) - sum(df['x'])*sum(df['r']/size)) /(sum(df['x_sqr'])-(sum(df['x'])**2/size))\n",
        "w0 = sum(df['r'])/size - w1*sum(df['x'])/size\n",
        "predicted = w0+w1*df['x']\n",
        "e7 = sum((df['r']-predicted)**2)/size\n",
        "et7 = sum((test_df['r']-test_predicted)**2)/test_size\n",
        "data = gen_regression_symbolic(m='3*x + 5',n_samples=1200)\n",
        "df = pd.DataFrame(data, columns=['x']+['r'])\n",
        "df = df.dropna()\n",
        "test_df = df.iloc[-300:]\n",
        "df['x_sqr'] = df['x']**2\n",
        "df['r_sqr'] = df['r']**2\n",
        "df['xr'] = df['x']*df['r']\n",
        "w1 = (sum(df['xr']) - sum(df['x'])*sum(df['r']/size)) /(sum(df['x_sqr'])-(sum(df['x'])**2/size))\n",
        "w0 = sum(df['r'])/size - w1*sum(df['x'])/size\n",
        "predicted = w0+w1*df['x']\n",
        "e8 = sum((df['r']-predicted)**2)/size\n",
        "et8 = sum((test_df['r']-test_predicted)**2)/test_size\n",
        "data = gen_regression_symbolic(m='3*x + 5',n_samples=1300)\n",
        "df = pd.DataFrame(data, columns=['x']+['r'])\n",
        "df = df.dropna()\n",
        "test_df = df.iloc[-325]\n",
        "df['x_sqr'] = df['x']**2\n",
        "df['r_sqr'] = df['r']**2\n",
        "df['xr'] = df['x']*df['r']\n",
        "w1 = (sum(df['xr']) - sum(df['x'])*sum(df['r']/size)) /(sum(df['x_sqr'])-(sum(df['x'])**2/size))\n",
        "w0 = sum(df['r'])/size - w1*sum(df['x'])/size\n",
        "predicted = w0+w1*df['x']\n",
        "e9 = sum((df['r']-predicted)**2)/size\n",
        "et9 = sum((test_df['r']-test_predicted)**2)/test_size\n",
        "data = gen_regression_symbolic(m='3*x + 5',n_samples=1400)\n",
        "df = pd.DataFrame(data, columns=['x']+['r'])\n",
        "df = df.dropna()\n",
        "test_df = df.iloc[-350]\n",
        "df['x_sqr'] = df['x']**2\n",
        "df['r_sqr'] = df['r']**2\n",
        "df['xr'] = df['x']*df['r']\n",
        "w1 = (sum(df['xr']) - sum(df['x'])*sum(df['r']/size)) /(sum(df['x_sqr'])-(sum(df['x'])**2/size))\n",
        "w0 = sum(df['r'])/size - w1*sum(df['x'])/size\n",
        "predicted = w0+w1*df['x']\n",
        "e10 = sum((df['r']-predicted)**2)/size\n",
        "et10 = sum((test_df['r']-test_predicted)**2)/test_size\n",
        "data = gen_regression_symbolic(m='3*x + 5',n_samples=1500)\n",
        "df = pd.DataFrame(data, columns=['x']+['r'])\n",
        "df = df.dropna()\n",
        "test_df = df.iloc[-375]\n",
        "df['x_sqr'] = df['x']**2\n",
        "df['r_sqr'] = df['r']**2\n",
        "df['xr'] = df['x']*df['r']\n",
        "w1 = (sum(df['xr']) - sum(df['x'])*sum(df['r']/size)) /(sum(df['x_sqr'])-(sum(df['x'])**2/size))\n",
        "w0 = sum(df['r'])/size - w1*sum(df['x'])/size\n",
        "predicted = w0+w1*df['x']\n",
        "e11 = sum((df['r']-predicted)**2)/size\n",
        "et11 = sum((test_df['r']-test_predicted)**2)/test_size"
      ],
      "execution_count": 133,
      "outputs": []
    },
    {
      "cell_type": "markdown",
      "metadata": {
        "id": "x2Ujzhpcc2EO"
      },
      "source": [
        "***(e) Make a table with rows as the size of the dataset, columns as\n",
        "the training data error, test data error.***"
      ]
    },
    {
      "cell_type": "code",
      "metadata": {
        "colab": {
          "base_uri": "https://localhost:8080/"
        },
        "id": "t1xZLkOYc3S4",
        "outputId": "bce74f63-fd11-4a30-e02d-2b536bd68e41"
      },
      "source": [
        "from prettytable import PrettyTable\n",
        "l=[[500,e1,et1],[600,e2,et2],[700,e3,et3],[800,e4,et4],[900,e5,et5],[1000,e6,et6],[1100,e7,et7],[1200,e8,et8],[1300,e9,et9],[1400,e10,et10],[1500,e11,et11]]\n",
        "table = PrettyTable(['Dataset Size', 'Training data error', 'Test data error'])\n",
        "for rec in l:\n",
        "    table.add_row(rec)\n",
        "print(table)"
      ],
      "execution_count": 134,
      "outputs": [
        {
          "output_type": "stream",
          "name": "stdout",
          "text": [
            "+--------------+----------------------+----------------------+\n",
            "| Dataset Size | Training data error  |   Test data error    |\n",
            "+--------------+----------------------+----------------------+\n",
            "|     500      | 3.09939505356809e-29 | 6.32272015534641e-30 |\n",
            "|     600      |   1.20324050576046   |         nan          |\n",
            "|     700      |   5.60016228236153   |         nan          |\n",
            "|     800      |   14.4698442273286   |         nan          |\n",
            "|     900      |   28.8525139711446   |         nan          |\n",
            "|     1000     |   50.0172920270232   |         nan          |\n",
            "|     1100     |   79.5358348996304   |         nan          |\n",
            "|     1200     |   117.657963372106   |         nan          |\n",
            "|     1300     |   167.150207911593   |   38.4728838191685   |\n",
            "|     1400     |   230.704777969344   |   33.8442015866151   |\n",
            "|     1500     |   305.195874913142   |   50.5203480837136   |\n",
            "+--------------+----------------------+----------------------+\n"
          ]
        }
      ]
    },
    {
      "cell_type": "markdown",
      "metadata": {
        "id": "v5uKfc79c8cn"
      },
      "source": [
        "***(f) Plot the graphs : graph1 : size of the dataset Vs Training data\n",
        "error (as a 2d plot), graph2 : Size of the dataset Vs test data\n",
        "error (as a 2d plot), graph3: size of the dataset Vs Training\n",
        "daat error Vs Test data error***"
      ]
    },
    {
      "cell_type": "code",
      "metadata": {
        "colab": {
          "base_uri": "https://localhost:8080/",
          "height": 295
        },
        "id": "dMU_QP3-c81E",
        "outputId": "f4a18c99-9e30-4df9-e4a4-f8bc3e064a56"
      },
      "source": [
        "#GRAPH 1:\n",
        "x = [500,600,700,800,900,1000,1100,1200,1300,1400,1500]\n",
        "y = [e1,e2,e3,e4,e5,e6,e7,e8,e9,e10,e11]\n",
        "plt.plot(x, y)\n",
        "plt.xlabel('Size of Dataset')\n",
        "plt.ylabel('Training Data Error')\n",
        "plt.title('Graph 1')\n",
        "plt.show()"
      ],
      "execution_count": 135,
      "outputs": [
        {
          "output_type": "display_data",
          "data": {
            "image/png": "[encoded data removed]",
            "text/plain": [
              "<Figure size 432x288 with 1 Axes>"
            ]
          },
          "metadata": {
            "needs_background": "light"
          }
        }
      ]
    },
    {
      "cell_type": "code",
      "metadata": {
        "colab": {
          "base_uri": "https://localhost:8080/",
          "height": 295
        },
        "id": "eb9tpCVpc-qM",
        "outputId": "49bddbe7-1c18-4cc6-d72c-7789e71830fc"
      },
      "source": [
        "#GRAPH 2:\n",
        "x = [500,600,700,800,900,1000,1100,1200,1300,1400,1500]\n",
        "y = [et1,et2,et3,et4,et5,et6,et7,et8,et9,et10,et11]\n",
        "plt.plot(x, y)\n",
        "plt.xlabel('Size of Dataset')\n",
        "plt.ylabel('Test Data Error')\n",
        "plt.title('Graph 2')\n",
        "plt.show()"
      ],
      "execution_count": 136,
      "outputs": [
        {
          "output_type": "display_data",
          "data": {
            "image/png": "[encoded data removed]",
            "text/plain": [
              "<Figure size 432x288 with 1 Axes>"
            ]
          },
          "metadata": {
            "needs_background": "light"
          }
        }
      ]
    },
    {
      "cell_type": "code",
      "metadata": {
        "colab": {
          "base_uri": "https://localhost:8080/",
          "height": 295
        },
        "id": "fclEaCACdIed",
        "outputId": "bf2dd704-d52e-4155-badf-e0618b4813bf"
      },
      "source": [
        "#GRAPH 3:\n",
        "x1 = [500,600,700,800,900,1000,1100,1200,1300,1400,1500]\n",
        "y1 = [e1,e2,e3,e4,e5,e6,e7,e8,e9,e10,e11]\n",
        "plt.plot(x1, y1, label = \"Training\")\n",
        "x2 = [500,600,700,800,900,1000,1100,1200,1300,1400,1500]\n",
        "y2 = [et1,et2,et3,et4,et5,et6,et7,et8,et9,et10,et11]\n",
        "plt.plot(x2, y2, label = \"Test\")\n",
        "plt.xlabel('Size of Dataset')\n",
        "plt.ylabel('Error')\n",
        "plt.title('Graph 3')\n",
        "plt.legend()\n",
        "plt.show()"
      ],
      "execution_count": 137,
      "outputs": [
        {
          "output_type": "display_data",
          "data": {
            "image/png": "[encoded data removed]",
            "text/plain": [
              "<Figure size 432x288 with 1 Axes>"
            ]
          },
          "metadata": {
            "needs_background": "light"
          }
        }
      ]
    },
    {
      "cell_type": "markdown",
      "metadata": {
        "id": "wG3wtadLdK3i"
      },
      "source": [
        "The phrase :***`If you train the model with more number of data-\n",
        "points, the model will learn better'***, is not always true because, from the above mentioned results (Both for training and test dataset), the more no. of datapoints resulted in more of percentages of error"
      ]
    },
    {
      "cell_type": "markdown",
      "metadata": {
        "id": "GVDJJXJQdjcg"
      },
      "source": [
        "**2) Consider the Toyota dataset. Train the `Multiple Linear Regres-\n",
        "sion Model (Gradient descent method)' in both the modes (Stochas-\n",
        "tic and Batch mode) by taking all the input features (which are\n",
        "numerical alone) of the dataset with a polynomial of degree 1\n",
        "(with all the terms). Compute the training data error and the test\n",
        "data error and conclude which model (stochastic/batch model)\n",
        "learns better with the type of data (test/train) .**"
      ]
    },
    {
      "cell_type": "code",
      "metadata": {
        "id": "b6Cmmy3RfIYf"
      },
      "source": [
        "import numpy as np\n",
        "import pandas as pd\n",
        "import matplotlib.pyplot as plt\n",
        "%matplotlib inline\n",
        "import seaborn as sns\n",
        "from sklearn.metrics import mean_squared_error"
      ],
      "execution_count": 138,
      "outputs": []
    },
    {
      "cell_type": "code",
      "metadata": {
        "colab": {
          "base_uri": "https://localhost:8080/",
          "height": 417
        },
        "id": "1Zw4i3VzgVgB",
        "outputId": "aea7c8b4-47c3-4e2e-94c3-c273e3c02b99"
      },
      "source": [
        "toyota_df = pd.read_csv(\"Toyota.csv\",index_col=0,na_values=['??','???','????'])\n",
        "toyota_df = toyota_df.drop('FuelType',axis=1)\n",
        "toyota_df"
      ],
      "execution_count": 139,
      "outputs": [
        {
          "output_type": "execute_result",
          "data": {
            "text/html": [
              "<div>\n",
              "<style scoped>\n",
              "    .dataframe tbody tr th:only-of-type {\n",
              "        vertical-align: middle;\n",
              "    }\n",
              "\n",
              "    .dataframe tbody tr th {\n",
              "        vertical-align: top;\n",
              "    }\n",
              "\n",
              "    .dataframe thead th {\n",
              "        text-align: right;\n",
              "    }\n",
              "</style>\n",
              "<table border=\"1\" class=\"dataframe\">\n",
              "  <thead>\n",
              "    <tr style=\"text-align: right;\">\n",
              "      <th></th>\n",
              "      <th>Price</th>\n",
              "      <th>Age</th>\n",
              "      <th>KM</th>\n",
              "      <th>HP</th>\n",
              "      <th>MetColor</th>\n",
              "      <th>Automatic</th>\n",
              "      <th>CC</th>\n",
              "      <th>Doors</th>\n",
              "      <th>Weight</th>\n",
              "    </tr>\n",
              "  </thead>\n",
              "  <tbody>\n",
              "    <tr>\n",
              "      <th>0</th>\n",
              "      <td>13500</td>\n",
              "      <td>23.0</td>\n",
              "      <td>46986.0</td>\n",
              "      <td>90.0</td>\n",
              "      <td>1.0</td>\n",
              "      <td>0</td>\n",
              "      <td>2000</td>\n",
              "      <td>three</td>\n",
              "      <td>1165</td>\n",
              "    </tr>\n",
              "    <tr>\n",
              "      <th>1</th>\n",
              "      <td>13750</td>\n",
              "      <td>23.0</td>\n",
              "      <td>72937.0</td>\n",
              "      <td>90.0</td>\n",
              "      <td>1.0</td>\n",
              "      <td>0</td>\n",
              "      <td>2000</td>\n",
              "      <td>3</td>\n",
              "      <td>1165</td>\n",
              "    </tr>\n",
              "    <tr>\n",
              "      <th>2</th>\n",
              "      <td>13950</td>\n",
              "      <td>24.0</td>\n",
              "      <td>41711.0</td>\n",
              "      <td>90.0</td>\n",
              "      <td>NaN</td>\n",
              "      <td>0</td>\n",
              "      <td>2000</td>\n",
              "      <td>3</td>\n",
              "      <td>1165</td>\n",
              "    </tr>\n",
              "    <tr>\n",
              "      <th>3</th>\n",
              "      <td>14950</td>\n",
              "      <td>26.0</td>\n",
              "      <td>48000.0</td>\n",
              "      <td>90.0</td>\n",
              "      <td>0.0</td>\n",
              "      <td>0</td>\n",
              "      <td>2000</td>\n",
              "      <td>3</td>\n",
              "      <td>1165</td>\n",
              "    </tr>\n",
              "    <tr>\n",
              "      <th>4</th>\n",
              "      <td>13750</td>\n",
              "      <td>30.0</td>\n",
              "      <td>38500.0</td>\n",
              "      <td>90.0</td>\n",
              "      <td>0.0</td>\n",
              "      <td>0</td>\n",
              "      <td>2000</td>\n",
              "      <td>3</td>\n",
              "      <td>1170</td>\n",
              "    </tr>\n",
              "    <tr>\n",
              "      <th>...</th>\n",
              "      <td>...</td>\n",
              "      <td>...</td>\n",
              "      <td>...</td>\n",
              "      <td>...</td>\n",
              "      <td>...</td>\n",
              "      <td>...</td>\n",
              "      <td>...</td>\n",
              "      <td>...</td>\n",
              "      <td>...</td>\n",
              "    </tr>\n",
              "    <tr>\n",
              "      <th>1431</th>\n",
              "      <td>7500</td>\n",
              "      <td>NaN</td>\n",
              "      <td>20544.0</td>\n",
              "      <td>86.0</td>\n",
              "      <td>1.0</td>\n",
              "      <td>0</td>\n",
              "      <td>1300</td>\n",
              "      <td>3</td>\n",
              "      <td>1025</td>\n",
              "    </tr>\n",
              "    <tr>\n",
              "      <th>1432</th>\n",
              "      <td>10845</td>\n",
              "      <td>72.0</td>\n",
              "      <td>NaN</td>\n",
              "      <td>86.0</td>\n",
              "      <td>0.0</td>\n",
              "      <td>0</td>\n",
              "      <td>1300</td>\n",
              "      <td>3</td>\n",
              "      <td>1015</td>\n",
              "    </tr>\n",
              "    <tr>\n",
              "      <th>1433</th>\n",
              "      <td>8500</td>\n",
              "      <td>NaN</td>\n",
              "      <td>17016.0</td>\n",
              "      <td>86.0</td>\n",
              "      <td>0.0</td>\n",
              "      <td>0</td>\n",
              "      <td>1300</td>\n",
              "      <td>3</td>\n",
              "      <td>1015</td>\n",
              "    </tr>\n",
              "    <tr>\n",
              "      <th>1434</th>\n",
              "      <td>7250</td>\n",
              "      <td>70.0</td>\n",
              "      <td>NaN</td>\n",
              "      <td>86.0</td>\n",
              "      <td>1.0</td>\n",
              "      <td>0</td>\n",
              "      <td>1300</td>\n",
              "      <td>3</td>\n",
              "      <td>1015</td>\n",
              "    </tr>\n",
              "    <tr>\n",
              "      <th>1435</th>\n",
              "      <td>6950</td>\n",
              "      <td>76.0</td>\n",
              "      <td>1.0</td>\n",
              "      <td>110.0</td>\n",
              "      <td>0.0</td>\n",
              "      <td>0</td>\n",
              "      <td>1600</td>\n",
              "      <td>5</td>\n",
              "      <td>1114</td>\n",
              "    </tr>\n",
              "  </tbody>\n",
              "</table>\n",
              "<p>1436 rows × 9 columns</p>\n",
              "</div>"
            ],
            "text/plain": [
              "      Price   Age       KM     HP  MetColor  Automatic    CC  Doors  Weight\n",
              "0     13500  23.0  46986.0   90.0       1.0          0  2000  three    1165\n",
              "1     13750  23.0  72937.0   90.0       1.0          0  2000      3    1165\n",
              "2     13950  24.0  41711.0   90.0       NaN          0  2000      3    1165\n",
              "3     14950  26.0  48000.0   90.0       0.0          0  2000      3    1165\n",
              "4     13750  30.0  38500.0   90.0       0.0          0  2000      3    1170\n",
              "...     ...   ...      ...    ...       ...        ...   ...    ...     ...\n",
              "1431   7500   NaN  20544.0   86.0       1.0          0  1300      3    1025\n",
              "1432  10845  72.0      NaN   86.0       0.0          0  1300      3    1015\n",
              "1433   8500   NaN  17016.0   86.0       0.0          0  1300      3    1015\n",
              "1434   7250  70.0      NaN   86.0       1.0          0  1300      3    1015\n",
              "1435   6950  76.0      1.0  110.0       0.0          0  1600      5    1114\n",
              "\n",
              "[1436 rows x 9 columns]"
            ]
          },
          "metadata": {},
          "execution_count": 139
        }
      ]
    },
    {
      "cell_type": "code",
      "metadata": {
        "colab": {
          "base_uri": "https://localhost:8080/"
        },
        "id": "zMTWfLq0gflE",
        "outputId": "d12edf10-d085-4bb0-e896-8534eb9d7867"
      },
      "source": [
        "toyota_df.isnull().sum() "
      ],
      "execution_count": 140,
      "outputs": [
        {
          "output_type": "execute_result",
          "data": {
            "text/plain": [
              "Price          0\n",
              "Age          100\n",
              "KM            15\n",
              "HP             6\n",
              "MetColor     150\n",
              "Automatic      0\n",
              "CC             0\n",
              "Doors          0\n",
              "Weight         0\n",
              "dtype: int64"
            ]
          },
          "metadata": {},
          "execution_count": 140
        }
      ]
    },
    {
      "cell_type": "code",
      "metadata": {
        "id": "EBnebksmgiMn"
      },
      "source": [
        "toyota_df['Doors'] = toyota_df['Doors'].replace('three',3)\n",
        "toyota_df['Doors'] = toyota_df['Doors'].replace('four',4)\n",
        "toyota_df['Doors'] = toyota_df['Doors'].replace('five',5)"
      ],
      "execution_count": 141,
      "outputs": []
    },
    {
      "cell_type": "code",
      "metadata": {
        "id": "bJlUbBVngqvZ"
      },
      "source": [
        "from sklearn.impute import SimpleImputer\n",
        "mean_imputer = SimpleImputer(missing_values=np.nan, strategy='mean')\n",
        "mode_imputer = SimpleImputer(missing_values=np.nan, strategy='most_frequent')\n",
        "toyota_df['Age'] = mean_imputer.fit_transform(toyota_df['Age'].values.reshape(-1,1))[:,0]\n",
        "toyota_df['KM'] = mean_imputer.fit_transform(toyota_df['KM'].values.reshape(-1,1))[:,0]\n",
        "mode_imputer = SimpleImputer(missing_values=np.nan, strategy='most_frequent')\n",
        "toyota_df['MetColor'] = mode_imputer.fit_transform(toyota_df['MetColor'].values.reshape(-1,1))[:,0]"
      ],
      "execution_count": 142,
      "outputs": []
    },
    {
      "cell_type": "code",
      "metadata": {
        "colab": {
          "base_uri": "https://localhost:8080/"
        },
        "id": "bKNspdP6gyLH",
        "outputId": "b9d86e8e-a40f-4a72-8345-c19a503317bd"
      },
      "source": [
        "toyota_df.HP = toyota_df['HP'].astype('float32')\n",
        "toyota_df['HP'] = mean_imputer.fit_transform(toyota_df['HP'].values.reshape(-1,1))[:,0]\n",
        "toyota_df.isnull().sum()"
      ],
      "execution_count": 143,
      "outputs": [
        {
          "output_type": "execute_result",
          "data": {
            "text/plain": [
              "Price        0\n",
              "Age          0\n",
              "KM           0\n",
              "HP           0\n",
              "MetColor     0\n",
              "Automatic    0\n",
              "CC           0\n",
              "Doors        0\n",
              "Weight       0\n",
              "dtype: int64"
            ]
          },
          "metadata": {},
          "execution_count": 143
        }
      ]
    },
    {
      "cell_type": "markdown",
      "metadata": {
        "id": "3uxaku0EhDBk"
      },
      "source": [
        "***After removing null values:-***"
      ]
    },
    {
      "cell_type": "code",
      "metadata": {
        "colab": {
          "base_uri": "https://localhost:8080/",
          "height": 605
        },
        "id": "vYrmpyqzh9LI",
        "outputId": "329e6783-eb09-4d8a-9581-d6a998bda6d9"
      },
      "source": [
        "#Check for normal distribution\n",
        "plt.figure(figsize = (12,9))\n",
        "sns.distplot(toyota_df['Price'], color = 'indigo') #Target is price\n",
        "plt.show()"
      ],
      "execution_count": 144,
      "outputs": [
        {
          "output_type": "stream",
          "name": "stderr",
          "text": [
            "/usr/local/lib/python3.7/dist-packages/seaborn/distributions.py:2619: FutureWarning: `distplot` is a deprecated function and will be removed in a future version. Please adapt your code to use either `displot` (a figure-level function with similar flexibility) or `histplot` (an axes-level function for histograms).\n",
            "  warnings.warn(msg, FutureWarning)\n"
          ]
        },
        {
          "output_type": "display_data",
          "data": {
            "image/png": "[encoded data removed]",
            "text/plain": [
              "<Figure size 864x648 with 1 Axes>"
            ]
          },
          "metadata": {
            "needs_background": "light"
          }
        }
      ]
    },
    {
      "cell_type": "markdown",
      "metadata": {
        "id": "rkzMff5Ojly4"
      },
      "source": [
        "***Correlation check:***"
      ]
    },
    {
      "cell_type": "code",
      "metadata": {
        "colab": {
          "base_uri": "https://localhost:8080/",
          "height": 667
        },
        "id": "OM8Go4b9hAa4",
        "outputId": "4b3f4de6-392b-4170-d2e4-a455b5d5f87e"
      },
      "source": [
        "plt.figure(figsize=(17,11))\n",
        "sns.heatmap(toyota_df.corr('pearson'), annot = True)"
      ],
      "execution_count": 145,
      "outputs": [
        {
          "output_type": "execute_result",
          "data": {
            "text/plain": [
              "<matplotlib.axes._subplots.AxesSubplot at 0x7f26a3df2510>"
            ]
          },
          "metadata": {},
          "execution_count": 145
        },
        {
          "output_type": "display_data",
          "data": {
            "image/png": "[encoded data removed]",
            "text/plain": [
              "<Figure size 1224x792 with 2 Axes>"
            ]
          },
          "metadata": {
            "needs_background": "light"
          }
        }
      ]
    },
    {
      "cell_type": "code",
      "metadata": {
        "id": "wWR0zcnHjVdh"
      },
      "source": [
        "X = toyota_df.drop(['Age', 'Price'], axis = 1)\n",
        "Y = toyota_df['Price']"
      ],
      "execution_count": 146,
      "outputs": []
    },
    {
      "cell_type": "code",
      "metadata": {
        "id": "RMvZ-M3WjiXr"
      },
      "source": [
        "from sklearn.model_selection import train_test_split\n",
        "X_train, X_test, Y_train, Y_test = train_test_split(X, Y, test_size = 0.2,random_state = 3)"
      ],
      "execution_count": 147,
      "outputs": []
    },
    {
      "cell_type": "code",
      "metadata": {
        "id": "nJKcMhpPj1pE"
      },
      "source": [
        "from sklearn.preprocessing import MinMaxScaler\n",
        "scaler = MinMaxScaler(feature_range=(0,1))\n",
        "X_train = scaler.fit_transform(X_train)\n",
        "X_test = scaler.transform(X_test)"
      ],
      "execution_count": 148,
      "outputs": []
    },
    {
      "cell_type": "code",
      "metadata": {
        "colab": {
          "base_uri": "https://localhost:8080/"
        },
        "id": "QK6wAbN0k_uU",
        "outputId": "520ee134-2020-4882-ee80-d3b4beb51bef"
      },
      "source": [
        "X_train_b = np.asarray(X_train)\n",
        "Y_train = np.asarray(Y_train)\n",
        "X_test_b = np.asarray(X_test)\n",
        "len(X_train_b),len(Y_train)"
      ],
      "execution_count": 149,
      "outputs": [
        {
          "output_type": "execute_result",
          "data": {
            "text/plain": [
              "(1148, 1148)"
            ]
          },
          "metadata": {},
          "execution_count": 149
        }
      ]
    },
    {
      "cell_type": "code",
      "metadata": {
        "id": "oJXdZu0ylC2X"
      },
      "source": [
        "from sklearn.utils import shuffle\n",
        "class sgd_regressor:\n",
        "  def __init__(self,X):\n",
        "    self.W = np.random.randn(X.shape[1],1)\n",
        "  def fit(self,X, y, learning_rate=0.1, numEpochs=2000):\n",
        "    num_of_samples = len(X)\n",
        "    xbShuffled, yShuffled = shuffle(X, y)\n",
        "    for epoch in range(numEpochs):\n",
        "      for i in range(num_of_samples):\n",
        "        X = xbShuffled[i:i+1]\n",
        "        yi = yShuffled[i:i+1]\n",
        "        delta = X.T.dot(X.dot(self.W)-yi.reshape(-1,1))\n",
        "        self.W = self.W - learning_rate * delta\n",
        "      learning_rate = learning_rate/1.02\n",
        "    return self.W\n",
        "  def predict(self,X,W):\n",
        "    return X.dot(W)\n",
        "  def measure(self,y_predict,y_actual):\n",
        "    return np.sqrt(mean_squared_error(y_predict, y_actual))"
      ],
      "execution_count": 150,
      "outputs": []
    },
    {
      "cell_type": "code",
      "metadata": {
        "id": "ccXRLxgjldHu"
      },
      "source": [
        "sgd = sgd_regressor(X_train_b)"
      ],
      "execution_count": 151,
      "outputs": []
    },
    {
      "cell_type": "code",
      "metadata": {
        "id": "7NT1OkErltHa"
      },
      "source": [
        "w = sgd.fit(X_train_b,Y_train)"
      ],
      "execution_count": 152,
      "outputs": []
    },
    {
      "cell_type": "code",
      "metadata": {
        "colab": {
          "base_uri": "https://localhost:8080/"
        },
        "id": "ZjKSlReclfUY",
        "outputId": "50fc051c-d30e-479a-ea8f-4d2112c1e11f"
      },
      "source": [
        "predicted_train =sgd.predict(X_train_b,w)\n",
        "rmse_train = sgd.measure(predicted_train,Y_train)\n",
        "print('SGD train error',rmse_train)"
      ],
      "execution_count": 153,
      "outputs": [
        {
          "output_type": "stream",
          "name": "stdout",
          "text": [
            "SGD train error 3166.0715181218275\n"
          ]
        }
      ]
    },
    {
      "cell_type": "code",
      "metadata": {
        "colab": {
          "base_uri": "https://localhost:8080/"
        },
        "id": "MYbp5kt-l3Hv",
        "outputId": "f94a180c-7f75-498a-c519-4526b47a8cd0"
      },
      "source": [
        "predicted_test =sgd.predict(X_test_b,w)\n",
        "rmse_test = sgd.measure(predicted_test,Y_test)\n",
        "print((rmse_test))"
      ],
      "execution_count": 154,
      "outputs": [
        {
          "output_type": "stream",
          "name": "stdout",
          "text": [
            "3745.3616850091976\n"
          ]
        }
      ]
    },
    {
      "cell_type": "code",
      "metadata": {
        "id": "pVwzRV8amLYR"
      },
      "source": [
        "class batch_regressor:\n",
        "  def __init__(self,X):\n",
        "    self.W = np.random.randn(X.shape[1],1)\n",
        "  def fit(self,X, y, learning_rate=0.1, numEpochs=2000):\n",
        "    num_of_samples = len(X)\n",
        "    for epoch in range(numEpochs):\n",
        "      X, y = shuffle(X, y)\n",
        "      delta = (X.T.dot(X.dot(self.W)-y.reshape(-1,1))/num_of_samples)\n",
        "      self.W = self.W - learning_rate * delta\n",
        "      learning_rate = learning_rate/1.02\n",
        "    return self.W\n",
        "  def predict(self,X,W):\n",
        "    return X.dot(W)\n",
        "  def measure(self,y_predict,y_actual):\n",
        "    return np.sqrt(mean_squared_error(y_predict, y_actual))"
      ],
      "execution_count": 155,
      "outputs": []
    },
    {
      "cell_type": "code",
      "metadata": {
        "id": "RSINgpgrmVTn"
      },
      "source": [
        "bgd = batch_regressor(X_train_b)\n",
        "w = bgd.fit(X_train_b,Y_train)"
      ],
      "execution_count": 156,
      "outputs": []
    },
    {
      "cell_type": "code",
      "metadata": {
        "colab": {
          "base_uri": "https://localhost:8080/"
        },
        "id": "UiMo1dS5mf2e",
        "outputId": "824e5e3b-2a85-4532-e60f-9c97f8f2c5af"
      },
      "source": [
        "predicted_train =bgd.predict(X_train_b,w)\n",
        "rmse2_train = bgd.measure(predicted_train,Y_train)\n",
        "print(rmse2_train)"
      ],
      "execution_count": 157,
      "outputs": [
        {
          "output_type": "stream",
          "name": "stdout",
          "text": [
            "4688.862317758163\n"
          ]
        }
      ]
    },
    {
      "cell_type": "code",
      "metadata": {
        "colab": {
          "base_uri": "https://localhost:8080/"
        },
        "id": "hMpPDbHmmnRk",
        "outputId": "8c63b6ca-7daa-4146-a5cc-c0afe8ae0fec"
      },
      "source": [
        "predicted_test =bgd.predict(X_test_b,w)\n",
        "rmse2_test = bgd.measure(predicted_test,Y_test)\n",
        "print((rmse2_test))"
      ],
      "execution_count": 158,
      "outputs": [
        {
          "output_type": "stream",
          "name": "stdout",
          "text": [
            "4317.943435839974\n"
          ]
        }
      ]
    },
    {
      "cell_type": "code",
      "metadata": {
        "colab": {
          "base_uri": "https://localhost:8080/"
        },
        "id": "il-ayz_cmzPl",
        "outputId": "85d7cde4-599b-4e97-c936-768036c4b5b0"
      },
      "source": [
        "from prettytable import PrettyTable\n",
        "l=[['Gradient Descent Model(stochastic mode)',rmse_train,rmse_test],['Gradient Descent Model(Batch mode)',rmse2_train,rmse2_test]]\n",
        "table = PrettyTable(['Model', 'Training data error', 'Test data error'])\n",
        "for rec in l:\n",
        "    table.add_row(rec)\n",
        "print(table)"
      ],
      "execution_count": 159,
      "outputs": [
        {
          "output_type": "stream",
          "name": "stdout",
          "text": [
            "+-----------------------------------------+---------------------+--------------------+\n",
            "|                  Model                  | Training data error |  Test data error   |\n",
            "+-----------------------------------------+---------------------+--------------------+\n",
            "| Gradient Descent Model(stochastic mode) |  3166.0715181218275 | 3745.3616850091976 |\n",
            "|    Gradient Descent Model(Batch mode)   |  4688.862317758163  | 4317.943435839974  |\n",
            "+-----------------------------------------+---------------------+--------------------+\n"
          ]
        }
      ]
    },
    {
      "cell_type": "markdown",
      "metadata": {
        "id": "0a1Oe4mjnSEP"
      },
      "source": [
        "**3) Consider a dataset D which has a minimum of three input fea-\n",
        "tures (say: x1, x2, x3) which are numerical and which could train\n",
        "a regression learning model.**\n",
        "\n",
        "***(a) Consider the data set D1 which has x1 with target variable\n",
        "of the dataset. Train the `Multiple Linear Regression Model\n",
        "(Stochastic Gradient Descent ) and the `Simple Linear Re-\n",
        "gression'(Stochastic Gradient Descent) with D1 for a polyno-\n",
        "mial of degree 1 (with all the terms) and conclude the model\n",
        "trained better by D1.***"
      ]
    },
    {
      "cell_type": "code",
      "metadata": {
        "colab": {
          "base_uri": "https://localhost:8080/",
          "height": 417
        },
        "id": "boFxcSIiSOz8",
        "outputId": "a2ee08bf-8c6d-40a4-b256-57911a124620"
      },
      "source": [
        "import numpy as np\n",
        "import pandas as pd\n",
        "from sklearn.datasets import make_regression\n",
        "D = make_regression(n_samples=1000, n_features=3,bias=0.0,noise=0.0, shuffle=True, coef=False)\n",
        "df = pd.DataFrame(D[0],columns=['x'+str(i) for i in range(1,4)])\n",
        "df['y'] = D[1]\n",
        "df"
      ],
      "execution_count": 160,
      "outputs": [
        {
          "output_type": "execute_result",
          "data": {
            "text/html": [
              "<div>\n",
              "<style scoped>\n",
              "    .dataframe tbody tr th:only-of-type {\n",
              "        vertical-align: middle;\n",
              "    }\n",
              "\n",
              "    .dataframe tbody tr th {\n",
              "        vertical-align: top;\n",
              "    }\n",
              "\n",
              "    .dataframe thead th {\n",
              "        text-align: right;\n",
              "    }\n",
              "</style>\n",
              "<table border=\"1\" class=\"dataframe\">\n",
              "  <thead>\n",
              "    <tr style=\"text-align: right;\">\n",
              "      <th></th>\n",
              "      <th>x1</th>\n",
              "      <th>x2</th>\n",
              "      <th>x3</th>\n",
              "      <th>y</th>\n",
              "    </tr>\n",
              "  </thead>\n",
              "  <tbody>\n",
              "    <tr>\n",
              "      <th>0</th>\n",
              "      <td>-1.969158</td>\n",
              "      <td>-0.733308</td>\n",
              "      <td>-0.655555</td>\n",
              "      <td>-231.079470</td>\n",
              "    </tr>\n",
              "    <tr>\n",
              "      <th>1</th>\n",
              "      <td>-0.002867</td>\n",
              "      <td>-0.938599</td>\n",
              "      <td>2.389348</td>\n",
              "      <td>-28.456329</td>\n",
              "    </tr>\n",
              "    <tr>\n",
              "      <th>2</th>\n",
              "      <td>-0.606856</td>\n",
              "      <td>0.853610</td>\n",
              "      <td>1.216525</td>\n",
              "      <td>44.159658</td>\n",
              "    </tr>\n",
              "    <tr>\n",
              "      <th>3</th>\n",
              "      <td>-0.214274</td>\n",
              "      <td>0.750063</td>\n",
              "      <td>-0.980833</td>\n",
              "      <td>23.747178</td>\n",
              "    </tr>\n",
              "    <tr>\n",
              "      <th>4</th>\n",
              "      <td>0.031740</td>\n",
              "      <td>-0.666645</td>\n",
              "      <td>-0.554767</td>\n",
              "      <td>-62.291488</td>\n",
              "    </tr>\n",
              "    <tr>\n",
              "      <th>...</th>\n",
              "      <td>...</td>\n",
              "      <td>...</td>\n",
              "      <td>...</td>\n",
              "      <td>...</td>\n",
              "    </tr>\n",
              "    <tr>\n",
              "      <th>995</th>\n",
              "      <td>-2.211116</td>\n",
              "      <td>1.786965</td>\n",
              "      <td>-0.326977</td>\n",
              "      <td>-40.615340</td>\n",
              "    </tr>\n",
              "    <tr>\n",
              "      <th>996</th>\n",
              "      <td>1.640180</td>\n",
              "      <td>1.615404</td>\n",
              "      <td>0.109476</td>\n",
              "      <td>264.882444</td>\n",
              "    </tr>\n",
              "    <tr>\n",
              "      <th>997</th>\n",
              "      <td>-1.378177</td>\n",
              "      <td>-0.882518</td>\n",
              "      <td>0.252089</td>\n",
              "      <td>-177.393385</td>\n",
              "    </tr>\n",
              "    <tr>\n",
              "      <th>998</th>\n",
              "      <td>0.285275</td>\n",
              "      <td>-0.655381</td>\n",
              "      <td>0.841771</td>\n",
              "      <td>-13.143815</td>\n",
              "    </tr>\n",
              "    <tr>\n",
              "      <th>999</th>\n",
              "      <td>1.817593</td>\n",
              "      <td>1.499357</td>\n",
              "      <td>0.430148</td>\n",
              "      <td>276.206241</td>\n",
              "    </tr>\n",
              "  </tbody>\n",
              "</table>\n",
              "<p>1000 rows × 4 columns</p>\n",
              "</div>"
            ],
            "text/plain": [
              "           x1        x2        x3           y\n",
              "0   -1.969158 -0.733308 -0.655555 -231.079470\n",
              "1   -0.002867 -0.938599  2.389348  -28.456329\n",
              "2   -0.606856  0.853610  1.216525   44.159658\n",
              "3   -0.214274  0.750063 -0.980833   23.747178\n",
              "4    0.031740 -0.666645 -0.554767  -62.291488\n",
              "..        ...       ...       ...         ...\n",
              "995 -2.211116  1.786965 -0.326977  -40.615340\n",
              "996  1.640180  1.615404  0.109476  264.882444\n",
              "997 -1.378177 -0.882518  0.252089 -177.393385\n",
              "998  0.285275 -0.655381  0.841771  -13.143815\n",
              "999  1.817593  1.499357  0.430148  276.206241\n",
              "\n",
              "[1000 rows x 4 columns]"
            ]
          },
          "metadata": {},
          "execution_count": 160
        }
      ]
    },
    {
      "cell_type": "code",
      "metadata": {
        "colab": {
          "base_uri": "https://localhost:8080/",
          "height": 203
        },
        "id": "5RZD92tpT2YD",
        "outputId": "d25295c6-cd21-48d6-ea9b-8c9da3aad117"
      },
      "source": [
        "D1 = pd.DataFrame(df, columns=['x1','y'])\n",
        "D1.head()"
      ],
      "execution_count": 161,
      "outputs": [
        {
          "output_type": "execute_result",
          "data": {
            "text/html": [
              "<div>\n",
              "<style scoped>\n",
              "    .dataframe tbody tr th:only-of-type {\n",
              "        vertical-align: middle;\n",
              "    }\n",
              "\n",
              "    .dataframe tbody tr th {\n",
              "        vertical-align: top;\n",
              "    }\n",
              "\n",
              "    .dataframe thead th {\n",
              "        text-align: right;\n",
              "    }\n",
              "</style>\n",
              "<table border=\"1\" class=\"dataframe\">\n",
              "  <thead>\n",
              "    <tr style=\"text-align: right;\">\n",
              "      <th></th>\n",
              "      <th>x1</th>\n",
              "      <th>y</th>\n",
              "    </tr>\n",
              "  </thead>\n",
              "  <tbody>\n",
              "    <tr>\n",
              "      <th>0</th>\n",
              "      <td>-1.969158</td>\n",
              "      <td>-231.079470</td>\n",
              "    </tr>\n",
              "    <tr>\n",
              "      <th>1</th>\n",
              "      <td>-0.002867</td>\n",
              "      <td>-28.456329</td>\n",
              "    </tr>\n",
              "    <tr>\n",
              "      <th>2</th>\n",
              "      <td>-0.606856</td>\n",
              "      <td>44.159658</td>\n",
              "    </tr>\n",
              "    <tr>\n",
              "      <th>3</th>\n",
              "      <td>-0.214274</td>\n",
              "      <td>23.747178</td>\n",
              "    </tr>\n",
              "    <tr>\n",
              "      <th>4</th>\n",
              "      <td>0.031740</td>\n",
              "      <td>-62.291488</td>\n",
              "    </tr>\n",
              "  </tbody>\n",
              "</table>\n",
              "</div>"
            ],
            "text/plain": [
              "         x1           y\n",
              "0 -1.969158 -231.079470\n",
              "1 -0.002867  -28.456329\n",
              "2 -0.606856   44.159658\n",
              "3 -0.214274   23.747178\n",
              "4  0.031740  -62.291488"
            ]
          },
          "metadata": {},
          "execution_count": 161
        }
      ]
    },
    {
      "cell_type": "code",
      "metadata": {
        "colab": {
          "base_uri": "https://localhost:8080/",
          "height": 605
        },
        "id": "MfCD7s3Pm8SN",
        "outputId": "43697cb4-c456-480c-a60d-6ccfba5e26c6"
      },
      "source": [
        "plt.figure(figsize = (12,9))\n",
        "sns.distplot(D1['y'], color = 'indigo')\n",
        "plt.show()"
      ],
      "execution_count": 162,
      "outputs": [
        {
          "output_type": "stream",
          "name": "stderr",
          "text": [
            "/usr/local/lib/python3.7/dist-packages/seaborn/distributions.py:2619: FutureWarning: `distplot` is a deprecated function and will be removed in a future version. Please adapt your code to use either `displot` (a figure-level function with similar flexibility) or `histplot` (an axes-level function for histograms).\n",
            "  warnings.warn(msg, FutureWarning)\n"
          ]
        },
        {
          "output_type": "display_data",
          "data": {
            "image/png": "[encoded data removed]",
            "text/plain": [
              "<Figure size 864x648 with 1 Axes>"
            ]
          },
          "metadata": {
            "needs_background": "light"
          }
        }
      ]
    },
    {
      "cell_type": "code",
      "metadata": {
        "colab": {
          "base_uri": "https://localhost:8080/",
          "height": 667
        },
        "id": "wn7oLMQ_jE_H",
        "outputId": "85b6d3fd-9d5b-4503-9d3a-37c582ee7c4f"
      },
      "source": [
        "import matplotlib.pyplot as plt\n",
        "import seaborn as sns\n",
        "plt.figure(figsize=(17,11))\n",
        "sns.heatmap(D1.corr('pearson'), annot = True)"
      ],
      "execution_count": 163,
      "outputs": [
        {
          "output_type": "execute_result",
          "data": {
            "text/plain": [
              "<matplotlib.axes._subplots.AxesSubplot at 0x7f26a1f1cf50>"
            ]
          },
          "metadata": {},
          "execution_count": 163
        },
        {
          "output_type": "display_data",
          "data": {
            "image/png": "[encoded data removed]",
            "text/plain": [
              "<Figure size 1224x792 with 2 Axes>"
            ]
          },
          "metadata": {
            "needs_background": "light"
          }
        }
      ]
    },
    {
      "cell_type": "code",
      "metadata": {
        "colab": {
          "base_uri": "https://localhost:8080/",
          "height": 417
        },
        "id": "WwRhvc01iWoq",
        "outputId": "b9890377-22ff-4c35-d79b-9d6d3e39c375"
      },
      "source": [
        "temp = pd.DataFrame(D1, columns=['x1','y'])\n",
        "Ones = np.ones(temp.shape[0])\n",
        "temp['Bias'] = Ones\n",
        "temp"
      ],
      "execution_count": 164,
      "outputs": [
        {
          "output_type": "execute_result",
          "data": {
            "text/html": [
              "<div>\n",
              "<style scoped>\n",
              "    .dataframe tbody tr th:only-of-type {\n",
              "        vertical-align: middle;\n",
              "    }\n",
              "\n",
              "    .dataframe tbody tr th {\n",
              "        vertical-align: top;\n",
              "    }\n",
              "\n",
              "    .dataframe thead th {\n",
              "        text-align: right;\n",
              "    }\n",
              "</style>\n",
              "<table border=\"1\" class=\"dataframe\">\n",
              "  <thead>\n",
              "    <tr style=\"text-align: right;\">\n",
              "      <th></th>\n",
              "      <th>x1</th>\n",
              "      <th>y</th>\n",
              "      <th>Bias</th>\n",
              "    </tr>\n",
              "  </thead>\n",
              "  <tbody>\n",
              "    <tr>\n",
              "      <th>0</th>\n",
              "      <td>-1.969158</td>\n",
              "      <td>-231.079470</td>\n",
              "      <td>1.0</td>\n",
              "    </tr>\n",
              "    <tr>\n",
              "      <th>1</th>\n",
              "      <td>-0.002867</td>\n",
              "      <td>-28.456329</td>\n",
              "      <td>1.0</td>\n",
              "    </tr>\n",
              "    <tr>\n",
              "      <th>2</th>\n",
              "      <td>-0.606856</td>\n",
              "      <td>44.159658</td>\n",
              "      <td>1.0</td>\n",
              "    </tr>\n",
              "    <tr>\n",
              "      <th>3</th>\n",
              "      <td>-0.214274</td>\n",
              "      <td>23.747178</td>\n",
              "      <td>1.0</td>\n",
              "    </tr>\n",
              "    <tr>\n",
              "      <th>4</th>\n",
              "      <td>0.031740</td>\n",
              "      <td>-62.291488</td>\n",
              "      <td>1.0</td>\n",
              "    </tr>\n",
              "    <tr>\n",
              "      <th>...</th>\n",
              "      <td>...</td>\n",
              "      <td>...</td>\n",
              "      <td>...</td>\n",
              "    </tr>\n",
              "    <tr>\n",
              "      <th>995</th>\n",
              "      <td>-2.211116</td>\n",
              "      <td>-40.615340</td>\n",
              "      <td>1.0</td>\n",
              "    </tr>\n",
              "    <tr>\n",
              "      <th>996</th>\n",
              "      <td>1.640180</td>\n",
              "      <td>264.882444</td>\n",
              "      <td>1.0</td>\n",
              "    </tr>\n",
              "    <tr>\n",
              "      <th>997</th>\n",
              "      <td>-1.378177</td>\n",
              "      <td>-177.393385</td>\n",
              "      <td>1.0</td>\n",
              "    </tr>\n",
              "    <tr>\n",
              "      <th>998</th>\n",
              "      <td>0.285275</td>\n",
              "      <td>-13.143815</td>\n",
              "      <td>1.0</td>\n",
              "    </tr>\n",
              "    <tr>\n",
              "      <th>999</th>\n",
              "      <td>1.817593</td>\n",
              "      <td>276.206241</td>\n",
              "      <td>1.0</td>\n",
              "    </tr>\n",
              "  </tbody>\n",
              "</table>\n",
              "<p>1000 rows × 3 columns</p>\n",
              "</div>"
            ],
            "text/plain": [
              "           x1           y  Bias\n",
              "0   -1.969158 -231.079470   1.0\n",
              "1   -0.002867  -28.456329   1.0\n",
              "2   -0.606856   44.159658   1.0\n",
              "3   -0.214274   23.747178   1.0\n",
              "4    0.031740  -62.291488   1.0\n",
              "..        ...         ...   ...\n",
              "995 -2.211116  -40.615340   1.0\n",
              "996  1.640180  264.882444   1.0\n",
              "997 -1.378177 -177.393385   1.0\n",
              "998  0.285275  -13.143815   1.0\n",
              "999  1.817593  276.206241   1.0\n",
              "\n",
              "[1000 rows x 3 columns]"
            ]
          },
          "metadata": {},
          "execution_count": 164
        }
      ]
    },
    {
      "cell_type": "code",
      "metadata": {
        "id": "8ol1XhdBcZxb"
      },
      "source": [
        "X = temp.drop(['y'], axis = 1)\n",
        "Y = D1['y']"
      ],
      "execution_count": 165,
      "outputs": []
    },
    {
      "cell_type": "code",
      "metadata": {
        "id": "Bk4LNOlHgkvo"
      },
      "source": [
        "from sklearn.model_selection import train_test_split\n",
        "X_train, X_test, Y_train, Y_test = train_test_split(X, Y, test_size = 0.2,random_state = 3)"
      ],
      "execution_count": 166,
      "outputs": []
    },
    {
      "cell_type": "code",
      "metadata": {
        "id": "O33ppdYagtOQ"
      },
      "source": [
        "from sklearn.preprocessing import MinMaxScaler\n",
        "scaler = MinMaxScaler(feature_range=(0,1))\n",
        "X_train = scaler.fit_transform(X_train)\n",
        "X_test = scaler.transform(X_test)"
      ],
      "execution_count": 167,
      "outputs": []
    },
    {
      "cell_type": "code",
      "metadata": {
        "id": "gbPDywOTjdnI"
      },
      "source": [
        "X_train_b = np.asarray(X_train)\n",
        "Y_train = np.asarray(Y_train)\n",
        "X_test_b = np.asarray(X_test)"
      ],
      "execution_count": 168,
      "outputs": []
    },
    {
      "cell_type": "code",
      "metadata": {
        "colab": {
          "base_uri": "https://localhost:8080/"
        },
        "id": "07O1S1YpjlrR",
        "outputId": "8178602c-65d7-4095-d884-a4cabfb1c0d5"
      },
      "source": [
        "len(X_train_b),len(Y_train)"
      ],
      "execution_count": 169,
      "outputs": [
        {
          "output_type": "execute_result",
          "data": {
            "text/plain": [
              "(800, 800)"
            ]
          },
          "metadata": {},
          "execution_count": 169
        }
      ]
    },
    {
      "cell_type": "code",
      "metadata": {
        "id": "yhJiNd0vjnvy"
      },
      "source": [
        "from sklearn.utils import shuffle\n",
        "from sklearn.metrics import mean_squared_error\n",
        "class sgd_regressor:\n",
        "  def __init__(self,X):\n",
        "    self.W = np.random.randn(X.shape[1],1)\n",
        "  def fit(self,X, y, learning_rate=0.1, numEpochs=2000):\n",
        "    num_of_samples = len(X)\n",
        "    xbShuffled, yShuffled = shuffle(X, y)\n",
        "    for epoch in range(numEpochs):\n",
        "      for i in range(num_of_samples):\n",
        "        X = xbShuffled[i:i+1]\n",
        "        yi = yShuffled[i:i+1]\n",
        "        delta = X.T.dot(X.dot(self.W)-yi.reshape(-1,1))\n",
        "        self.W = self.W - learning_rate * delta\n",
        "      learning_rate = learning_rate/1.02\n",
        "    return self.W\n",
        "  def predict(self,X,W):\n",
        "    return X.dot(W)\n",
        "  def measure(self,y_predict,y_actual):\n",
        "    return np.sqrt(mean_squared_error(y_predict, y_actual))"
      ],
      "execution_count": 170,
      "outputs": []
    },
    {
      "cell_type": "code",
      "metadata": {
        "id": "j9a7l69tjutg"
      },
      "source": [
        "sgd = sgd_regressor(X_train_b)"
      ],
      "execution_count": 171,
      "outputs": []
    },
    {
      "cell_type": "code",
      "metadata": {
        "id": "2uAIVc5mjxmS"
      },
      "source": [
        "w = sgd.fit(X_train_b,Y_train)"
      ],
      "execution_count": 172,
      "outputs": []
    },
    {
      "cell_type": "code",
      "metadata": {
        "colab": {
          "base_uri": "https://localhost:8080/"
        },
        "id": "33gLSUiUj1IM",
        "outputId": "027647a5-65f7-4e20-8ab3-b60ca2b83f98"
      },
      "source": [
        "predicted_train =sgd.predict(X_train_b,w)\n",
        "predicted_train.shape"
      ],
      "execution_count": 173,
      "outputs": [
        {
          "output_type": "execute_result",
          "data": {
            "text/plain": [
              "(800, 1)"
            ]
          },
          "metadata": {},
          "execution_count": 173
        }
      ]
    },
    {
      "cell_type": "code",
      "metadata": {
        "colab": {
          "base_uri": "https://localhost:8080/"
        },
        "id": "GqglGak6j4G6",
        "outputId": "74d73727-9c55-4859-92c2-d74364f25bba"
      },
      "source": [
        "rmse = sgd.measure(predicted_train,Y_train)\n",
        "print('SGD train error',rmse)"
      ],
      "execution_count": 174,
      "outputs": [
        {
          "output_type": "stream",
          "name": "stdout",
          "text": [
            "SGD train error 113.56131401751782\n"
          ]
        }
      ]
    },
    {
      "cell_type": "code",
      "metadata": {
        "colab": {
          "base_uri": "https://localhost:8080/"
        },
        "id": "e3IlYo30kNU2",
        "outputId": "95a3b6dc-f93c-4084-9a85-05b87c1039cd"
      },
      "source": [
        "predicted_test =sgd.predict(X_test_b,w)\n",
        "rmse = sgd.measure(predicted_test,Y_test)\n",
        "print('SGD test error',rmse)"
      ],
      "execution_count": 175,
      "outputs": [
        {
          "output_type": "stream",
          "name": "stdout",
          "text": [
            "SGD test error 109.70216239031842\n"
          ]
        }
      ]
    },
    {
      "cell_type": "markdown",
      "metadata": {
        "id": "d5WRGdXtkVrc"
      },
      "source": [
        "Since the given dataset 'D1'had only one input variable 'x1', SLR-SGD is the best method for the given case."
      ]
    },
    {
      "cell_type": "markdown",
      "metadata": {
        "id": "Noftl3iMkoaN"
      },
      "source": [
        "***(b) Consider the data set D2 which has x1 &x2 with target vari-\n",
        "able of the dataset. Train the `Multiple Linear Regression\n",
        "Model (Stochastic Gradient Descent) with D2 for a polyno-\n",
        "mial of degree 2 (with all the terms).***"
      ]
    },
    {
      "cell_type": "code",
      "metadata": {
        "colab": {
          "base_uri": "https://localhost:8080/",
          "height": 203
        },
        "id": "0Ry4D3BCkrrx",
        "outputId": "7e86e542-f9a1-40da-a07f-da56dbdb0451"
      },
      "source": [
        "D2 = pd.DataFrame(df, columns=['x1','x2','y'])\n",
        "D2.insert(2,\"x1_x2\",D2['x1']*D2['x2'])\n",
        "D2.insert(3,\"x1^2\",D2['x1']**2)\n",
        "D2.insert(4,\"x2^2\",D2['x2']**2)\n",
        "D2.head()"
      ],
      "execution_count": 176,
      "outputs": [
        {
          "output_type": "execute_result",
          "data": {
            "text/html": [
              "<div>\n",
              "<style scoped>\n",
              "    .dataframe tbody tr th:only-of-type {\n",
              "        vertical-align: middle;\n",
              "    }\n",
              "\n",
              "    .dataframe tbody tr th {\n",
              "        vertical-align: top;\n",
              "    }\n",
              "\n",
              "    .dataframe thead th {\n",
              "        text-align: right;\n",
              "    }\n",
              "</style>\n",
              "<table border=\"1\" class=\"dataframe\">\n",
              "  <thead>\n",
              "    <tr style=\"text-align: right;\">\n",
              "      <th></th>\n",
              "      <th>x1</th>\n",
              "      <th>x2</th>\n",
              "      <th>x1_x2</th>\n",
              "      <th>x1^2</th>\n",
              "      <th>x2^2</th>\n",
              "      <th>y</th>\n",
              "    </tr>\n",
              "  </thead>\n",
              "  <tbody>\n",
              "    <tr>\n",
              "      <th>0</th>\n",
              "      <td>-1.969158</td>\n",
              "      <td>-0.733308</td>\n",
              "      <td>1.444000</td>\n",
              "      <td>3.877584</td>\n",
              "      <td>0.537741</td>\n",
              "      <td>-231.079470</td>\n",
              "    </tr>\n",
              "    <tr>\n",
              "      <th>1</th>\n",
              "      <td>-0.002867</td>\n",
              "      <td>-0.938599</td>\n",
              "      <td>0.002691</td>\n",
              "      <td>0.000008</td>\n",
              "      <td>0.880968</td>\n",
              "      <td>-28.456329</td>\n",
              "    </tr>\n",
              "    <tr>\n",
              "      <th>2</th>\n",
              "      <td>-0.606856</td>\n",
              "      <td>0.853610</td>\n",
              "      <td>-0.518018</td>\n",
              "      <td>0.368274</td>\n",
              "      <td>0.728651</td>\n",
              "      <td>44.159658</td>\n",
              "    </tr>\n",
              "    <tr>\n",
              "      <th>3</th>\n",
              "      <td>-0.214274</td>\n",
              "      <td>0.750063</td>\n",
              "      <td>-0.160719</td>\n",
              "      <td>0.045913</td>\n",
              "      <td>0.562595</td>\n",
              "      <td>23.747178</td>\n",
              "    </tr>\n",
              "    <tr>\n",
              "      <th>4</th>\n",
              "      <td>0.031740</td>\n",
              "      <td>-0.666645</td>\n",
              "      <td>-0.021160</td>\n",
              "      <td>0.001007</td>\n",
              "      <td>0.444416</td>\n",
              "      <td>-62.291488</td>\n",
              "    </tr>\n",
              "  </tbody>\n",
              "</table>\n",
              "</div>"
            ],
            "text/plain": [
              "         x1        x2     x1_x2      x1^2      x2^2           y\n",
              "0 -1.969158 -0.733308  1.444000  3.877584  0.537741 -231.079470\n",
              "1 -0.002867 -0.938599  0.002691  0.000008  0.880968  -28.456329\n",
              "2 -0.606856  0.853610 -0.518018  0.368274  0.728651   44.159658\n",
              "3 -0.214274  0.750063 -0.160719  0.045913  0.562595   23.747178\n",
              "4  0.031740 -0.666645 -0.021160  0.001007  0.444416  -62.291488"
            ]
          },
          "metadata": {},
          "execution_count": 176
        }
      ]
    },
    {
      "cell_type": "code",
      "metadata": {
        "colab": {
          "base_uri": "https://localhost:8080/",
          "height": 668
        },
        "id": "TkxFi1I0mBU5",
        "outputId": "71dca004-cb78-4028-f47e-3374bde73fb9"
      },
      "source": [
        "plt.figure(figsize=(17,11))\n",
        "sns.heatmap(D2.corr('pearson'), annot = True)"
      ],
      "execution_count": 177,
      "outputs": [
        {
          "output_type": "execute_result",
          "data": {
            "text/plain": [
              "<matplotlib.axes._subplots.AxesSubplot at 0x7f26a1e35f10>"
            ]
          },
          "metadata": {},
          "execution_count": 177
        },
        {
          "output_type": "display_data",
          "data": {
            "image/png": "[encoded data removed]",
            "text/plain": [
              "<Figure size 1224x792 with 2 Axes>"
            ]
          },
          "metadata": {
            "needs_background": "light"
          }
        }
      ]
    },
    {
      "cell_type": "code",
      "metadata": {
        "id": "hr-B-WX0mURZ"
      },
      "source": [
        "#Correlation b/w x1 and x1^2 is less than 0.85, so removing x1\n",
        "X = D2.drop(['x1', 'y'], axis = 1)\n",
        "Y = D2['y']\n",
        "Ones = np.ones(X.shape[0])\n",
        "X.insert(0,'Bias',Ones)"
      ],
      "execution_count": 178,
      "outputs": []
    },
    {
      "cell_type": "code",
      "metadata": {
        "colab": {
          "base_uri": "https://localhost:8080/"
        },
        "id": "2JY-RWAHo0L2",
        "outputId": "01b9e2fe-27e9-4903-c9f3-553d609259df"
      },
      "source": [
        "from sklearn.model_selection import train_test_split\n",
        "# choose random state to randomly sample data 0-11\n",
        "X_train, X_test, Y_train, Y_test = train_test_split(X, Y, test_size = 0.2,random_state = 3)\n",
        "from sklearn.preprocessing import MinMaxScaler\n",
        "scaler = MinMaxScaler(feature_range=(0,1))\n",
        "X_train = scaler.fit_transform(X_train)\n",
        "X_test = scaler.transform(X_test)\n",
        "X_train_b = np.asarray(X_train)\n",
        "Y_train = np.asarray(Y_train)\n",
        "X_test_b = np.asarray(X_test)\n",
        "len(X_train_b),len(Y_train)"
      ],
      "execution_count": 179,
      "outputs": [
        {
          "output_type": "execute_result",
          "data": {
            "text/plain": [
              "(800, 800)"
            ]
          },
          "metadata": {},
          "execution_count": 179
        }
      ]
    },
    {
      "cell_type": "code",
      "metadata": {
        "id": "X07bu-lVo_mw"
      },
      "source": [
        "sgd = sgd_regressor(X_train_b)\n",
        "w = sgd.fit(X_train_b,Y_train)"
      ],
      "execution_count": 180,
      "outputs": []
    },
    {
      "cell_type": "code",
      "metadata": {
        "colab": {
          "base_uri": "https://localhost:8080/"
        },
        "id": "llBg9nabpEnO",
        "outputId": "581bf9a4-0ac0-4bcb-91b6-9ac962d421d0"
      },
      "source": [
        "rmse = sgd.measure(predicted_train,Y_train)\n",
        "print('SGD train error',rmse)"
      ],
      "execution_count": 181,
      "outputs": [
        {
          "output_type": "stream",
          "name": "stdout",
          "text": [
            "SGD train error 113.56131401751782\n"
          ]
        }
      ]
    },
    {
      "cell_type": "code",
      "metadata": {
        "colab": {
          "base_uri": "https://localhost:8080/"
        },
        "id": "LQsAKheQpGsU",
        "outputId": "3da60741-955b-48bb-a1d8-10d61861d948"
      },
      "source": [
        "predicted_test =sgd.predict(X_test_b,w)\n",
        "rmse = sgd.measure(predicted_test,Y_test)\n",
        "print('SGD test error',rmse)"
      ],
      "execution_count": 182,
      "outputs": [
        {
          "output_type": "stream",
          "name": "stdout",
          "text": [
            "SGD test error 86.76184212109857\n"
          ]
        }
      ]
    },
    {
      "cell_type": "markdown",
      "metadata": {
        "id": "8Vw2zmHYq5Cm"
      },
      "source": [
        "***(c) Consider the data set D3 which has x1 ; x2&x3 with target\n",
        "variable of the dataset. Train the `Multiple Linear Regression\n",
        "Model (Stochastic Gradient Descent) with D2 for a polyno-\n",
        "mial of degree 1 (with all the terms).***"
      ]
    },
    {
      "cell_type": "code",
      "metadata": {
        "colab": {
          "base_uri": "https://localhost:8080/",
          "height": 203
        },
        "id": "rUkNpXZnq8E5",
        "outputId": "ad3d798a-43a0-4677-fac7-8e2c2c41c391"
      },
      "source": [
        "D3 = pd.DataFrame(df, columns=['x1','x2','x3','y'])\n",
        "D3.head()"
      ],
      "execution_count": 183,
      "outputs": [
        {
          "output_type": "execute_result",
          "data": {
            "text/html": [
              "<div>\n",
              "<style scoped>\n",
              "    .dataframe tbody tr th:only-of-type {\n",
              "        vertical-align: middle;\n",
              "    }\n",
              "\n",
              "    .dataframe tbody tr th {\n",
              "        vertical-align: top;\n",
              "    }\n",
              "\n",
              "    .dataframe thead th {\n",
              "        text-align: right;\n",
              "    }\n",
              "</style>\n",
              "<table border=\"1\" class=\"dataframe\">\n",
              "  <thead>\n",
              "    <tr style=\"text-align: right;\">\n",
              "      <th></th>\n",
              "      <th>x1</th>\n",
              "      <th>x2</th>\n",
              "      <th>x3</th>\n",
              "      <th>y</th>\n",
              "    </tr>\n",
              "  </thead>\n",
              "  <tbody>\n",
              "    <tr>\n",
              "      <th>0</th>\n",
              "      <td>-1.969158</td>\n",
              "      <td>-0.733308</td>\n",
              "      <td>-0.655555</td>\n",
              "      <td>-231.079470</td>\n",
              "    </tr>\n",
              "    <tr>\n",
              "      <th>1</th>\n",
              "      <td>-0.002867</td>\n",
              "      <td>-0.938599</td>\n",
              "      <td>2.389348</td>\n",
              "      <td>-28.456329</td>\n",
              "    </tr>\n",
              "    <tr>\n",
              "      <th>2</th>\n",
              "      <td>-0.606856</td>\n",
              "      <td>0.853610</td>\n",
              "      <td>1.216525</td>\n",
              "      <td>44.159658</td>\n",
              "    </tr>\n",
              "    <tr>\n",
              "      <th>3</th>\n",
              "      <td>-0.214274</td>\n",
              "      <td>0.750063</td>\n",
              "      <td>-0.980833</td>\n",
              "      <td>23.747178</td>\n",
              "    </tr>\n",
              "    <tr>\n",
              "      <th>4</th>\n",
              "      <td>0.031740</td>\n",
              "      <td>-0.666645</td>\n",
              "      <td>-0.554767</td>\n",
              "      <td>-62.291488</td>\n",
              "    </tr>\n",
              "  </tbody>\n",
              "</table>\n",
              "</div>"
            ],
            "text/plain": [
              "         x1        x2        x3           y\n",
              "0 -1.969158 -0.733308 -0.655555 -231.079470\n",
              "1 -0.002867 -0.938599  2.389348  -28.456329\n",
              "2 -0.606856  0.853610  1.216525   44.159658\n",
              "3 -0.214274  0.750063 -0.980833   23.747178\n",
              "4  0.031740 -0.666645 -0.554767  -62.291488"
            ]
          },
          "metadata": {},
          "execution_count": 183
        }
      ]
    },
    {
      "cell_type": "code",
      "metadata": {
        "colab": {
          "base_uri": "https://localhost:8080/",
          "height": 667
        },
        "id": "tB4gK6sJq_zp",
        "outputId": "8574f108-6941-4f36-c69b-112f948ccdbf"
      },
      "source": [
        "plt.figure(figsize=(17,11))\n",
        "sns.heatmap(D3.corr('pearson'), annot = True)"
      ],
      "execution_count": 184,
      "outputs": [
        {
          "output_type": "execute_result",
          "data": {
            "text/plain": [
              "<matplotlib.axes._subplots.AxesSubplot at 0x7f26a1d89b90>"
            ]
          },
          "metadata": {},
          "execution_count": 184
        },
        {
          "output_type": "display_data",
          "data": {
            "image/png": "[encoded data removed]",
            "text/plain": [
              "<Figure size 1224x792 with 2 Axes>"
            ]
          },
          "metadata": {
            "needs_background": "light"
          }
        }
      ]
    },
    {
      "cell_type": "code",
      "metadata": {
        "id": "mV2is-30rGVl"
      },
      "source": [
        "X = D3.drop(['y'], axis = 1)\n",
        "Y = D3['y']\n",
        "Ones = np.ones(X.shape[0])\n",
        "X.insert(0,'Bias',Ones)"
      ],
      "execution_count": 185,
      "outputs": []
    },
    {
      "cell_type": "code",
      "metadata": {
        "colab": {
          "base_uri": "https://localhost:8080/"
        },
        "id": "Sc2hEbZTrVCB",
        "outputId": "1445a2a3-1d0d-4509-a8b3-36a039cd35ce"
      },
      "source": [
        "from sklearn.model_selection import train_test_split\n",
        "# choose random state to randomly sample data 0-11\n",
        "X_train, X_test, Y_train, Y_test = train_test_split(X, Y, test_size = 0.2,random_state = 3)\n",
        "from sklearn.preprocessing import MinMaxScaler\n",
        "scaler = MinMaxScaler(feature_range=(0,1))\n",
        "X_train = scaler.fit_transform(X_train)\n",
        "X_test = scaler.transform(X_test)\n",
        "X_train_b = np.asarray(X_train)\n",
        "Y_train = np.asarray(Y_train)\n",
        "X_test_b = np.asarray(X_test)\n",
        "len(X_train_b),len(Y_train)"
      ],
      "execution_count": 186,
      "outputs": [
        {
          "output_type": "execute_result",
          "data": {
            "text/plain": [
              "(800, 800)"
            ]
          },
          "metadata": {},
          "execution_count": 186
        }
      ]
    },
    {
      "cell_type": "code",
      "metadata": {
        "id": "H75GyXdCrWHk"
      },
      "source": [
        "sgd = sgd_regressor(X_train_b)\n",
        "w = sgd.fit(X_train_b,Y_train)"
      ],
      "execution_count": 187,
      "outputs": []
    },
    {
      "cell_type": "code",
      "metadata": {
        "colab": {
          "base_uri": "https://localhost:8080/"
        },
        "id": "fe0vf73hrecu",
        "outputId": "a1593087-8c98-4011-ca43-4f66f1847b3e"
      },
      "source": [
        "rmse = sgd.measure(predicted_train,Y_train)\n",
        "print('SGD train error',rmse)"
      ],
      "execution_count": 188,
      "outputs": [
        {
          "output_type": "stream",
          "name": "stdout",
          "text": [
            "SGD train error 113.56131401751782\n"
          ]
        }
      ]
    },
    {
      "cell_type": "code",
      "metadata": {
        "colab": {
          "base_uri": "https://localhost:8080/"
        },
        "id": "uGOQKSOmrhcf",
        "outputId": "b7131aae-1189-4785-83f3-ea4318a21dac"
      },
      "source": [
        "predicted_test =sgd.predict(X_test_b,w)\n",
        "rmse = sgd.measure(predicted_test,Y_test)\n",
        "print('SGD test error',rmse)"
      ],
      "execution_count": 189,
      "outputs": [
        {
          "output_type": "stream",
          "name": "stdout",
          "text": [
            "SGD test error 90.9614144351746\n"
          ]
        }
      ]
    },
    {
      "cell_type": "markdown",
      "metadata": {
        "id": "B1XFbk6qsHkE"
      },
      "source": [
        "MLR-SGD is better because both the MLR-SGD models have less test error (70.77 and 55.53) than the SLR-SGD model (75.54)"
      ]
    },
    {
      "cell_type": "markdown",
      "metadata": {
        "id": "ODor37hFsaSK"
      },
      "source": [
        "**4. Generate a dataset D with `make regression' which has 1000 data-\n",
        "points and two input features. partition the dataset in to training\n",
        "data and test data in the ratio of 80:20. Use D to train multiple\n",
        "linear regression model (Batch Gradient Descent) with**"
      ]
    },
    {
      "cell_type": "code",
      "metadata": {
        "colab": {
          "base_uri": "https://localhost:8080/",
          "height": 417
        },
        "id": "9usiTa3XtmxG",
        "outputId": "21a04031-3529-4a03-dcab-3be6382faa28"
      },
      "source": [
        "import numpy as np\n",
        "import pandas as pd\n",
        "from sklearn.datasets import make_regression\n",
        "D = make_regression(n_samples=1000, n_features=2,bias=0.0,noise=2.5, shuffle=True, coef=False)\n",
        "df = pd.DataFrame(D[0],columns=['x'+str(i) for i in range(1,3)])\n",
        "df['y'] = D[1]\n",
        "df"
      ],
      "execution_count": 190,
      "outputs": [
        {
          "output_type": "execute_result",
          "data": {
            "text/html": [
              "<div>\n",
              "<style scoped>\n",
              "    .dataframe tbody tr th:only-of-type {\n",
              "        vertical-align: middle;\n",
              "    }\n",
              "\n",
              "    .dataframe tbody tr th {\n",
              "        vertical-align: top;\n",
              "    }\n",
              "\n",
              "    .dataframe thead th {\n",
              "        text-align: right;\n",
              "    }\n",
              "</style>\n",
              "<table border=\"1\" class=\"dataframe\">\n",
              "  <thead>\n",
              "    <tr style=\"text-align: right;\">\n",
              "      <th></th>\n",
              "      <th>x1</th>\n",
              "      <th>x2</th>\n",
              "      <th>y</th>\n",
              "    </tr>\n",
              "  </thead>\n",
              "  <tbody>\n",
              "    <tr>\n",
              "      <th>0</th>\n",
              "      <td>-0.358872</td>\n",
              "      <td>-0.577345</td>\n",
              "      <td>-88.971680</td>\n",
              "    </tr>\n",
              "    <tr>\n",
              "      <th>1</th>\n",
              "      <td>0.973464</td>\n",
              "      <td>0.874665</td>\n",
              "      <td>178.038753</td>\n",
              "    </tr>\n",
              "    <tr>\n",
              "      <th>2</th>\n",
              "      <td>-1.058040</td>\n",
              "      <td>1.272313</td>\n",
              "      <td>31.110954</td>\n",
              "    </tr>\n",
              "    <tr>\n",
              "      <th>3</th>\n",
              "      <td>-1.000812</td>\n",
              "      <td>-1.776465</td>\n",
              "      <td>-266.191887</td>\n",
              "    </tr>\n",
              "    <tr>\n",
              "      <th>4</th>\n",
              "      <td>-1.282205</td>\n",
              "      <td>0.352198</td>\n",
              "      <td>-82.187957</td>\n",
              "    </tr>\n",
              "    <tr>\n",
              "      <th>...</th>\n",
              "      <td>...</td>\n",
              "      <td>...</td>\n",
              "      <td>...</td>\n",
              "    </tr>\n",
              "    <tr>\n",
              "      <th>995</th>\n",
              "      <td>0.128714</td>\n",
              "      <td>2.529711</td>\n",
              "      <td>267.742851</td>\n",
              "    </tr>\n",
              "    <tr>\n",
              "      <th>996</th>\n",
              "      <td>1.422731</td>\n",
              "      <td>-0.273328</td>\n",
              "      <td>101.196447</td>\n",
              "    </tr>\n",
              "    <tr>\n",
              "      <th>997</th>\n",
              "      <td>1.641579</td>\n",
              "      <td>-0.168637</td>\n",
              "      <td>128.726308</td>\n",
              "    </tr>\n",
              "    <tr>\n",
              "      <th>998</th>\n",
              "      <td>-0.526582</td>\n",
              "      <td>-1.653424</td>\n",
              "      <td>-215.261659</td>\n",
              "    </tr>\n",
              "    <tr>\n",
              "      <th>999</th>\n",
              "      <td>-0.251555</td>\n",
              "      <td>0.509108</td>\n",
              "      <td>22.705498</td>\n",
              "    </tr>\n",
              "  </tbody>\n",
              "</table>\n",
              "<p>1000 rows × 3 columns</p>\n",
              "</div>"
            ],
            "text/plain": [
              "           x1        x2           y\n",
              "0   -0.358872 -0.577345  -88.971680\n",
              "1    0.973464  0.874665  178.038753\n",
              "2   -1.058040  1.272313   31.110954\n",
              "3   -1.000812 -1.776465 -266.191887\n",
              "4   -1.282205  0.352198  -82.187957\n",
              "..        ...       ...         ...\n",
              "995  0.128714  2.529711  267.742851\n",
              "996  1.422731 -0.273328  101.196447\n",
              "997  1.641579 -0.168637  128.726308\n",
              "998 -0.526582 -1.653424 -215.261659\n",
              "999 -0.251555  0.509108   22.705498\n",
              "\n",
              "[1000 rows x 3 columns]"
            ]
          },
          "metadata": {},
          "execution_count": 190
        }
      ]
    },
    {
      "cell_type": "code",
      "metadata": {
        "colab": {
          "base_uri": "https://localhost:8080/",
          "height": 605
        },
        "id": "lWNeSizdwXHS",
        "outputId": "ba679c46-2c6a-4f63-b1c2-dfbabdec3e3f"
      },
      "source": [
        "plt.figure(figsize = (12,9))\n",
        "sns.distplot(df['y'], color = 'indigo')\n",
        "plt.show()"
      ],
      "execution_count": 191,
      "outputs": [
        {
          "output_type": "stream",
          "name": "stderr",
          "text": [
            "/usr/local/lib/python3.7/dist-packages/seaborn/distributions.py:2619: FutureWarning: `distplot` is a deprecated function and will be removed in a future version. Please adapt your code to use either `displot` (a figure-level function with similar flexibility) or `histplot` (an axes-level function for histograms).\n",
            "  warnings.warn(msg, FutureWarning)\n"
          ]
        },
        {
          "output_type": "display_data",
          "data": {
            "image/png": "[encoded data removed]",
            "text/plain": [
              "<Figure size 864x648 with 1 Axes>"
            ]
          },
          "metadata": {
            "needs_background": "light"
          }
        }
      ]
    },
    {
      "cell_type": "markdown",
      "metadata": {
        "id": "BKS6aV0st8kv"
      },
      "source": [
        "***(a) a polynomial of degree 1 (with all the terms)***"
      ]
    },
    {
      "cell_type": "code",
      "metadata": {
        "colab": {
          "base_uri": "https://localhost:8080/",
          "height": 667
        },
        "id": "9W7ONaOAuyRX",
        "outputId": "130771a1-4832-4ad3-80c2-827ca01830de"
      },
      "source": [
        "DF1 = df.copy()\n",
        "plt.figure(figsize=(17,11))\n",
        "sns.heatmap(DF1.corr('pearson'), annot = True)"
      ],
      "execution_count": 192,
      "outputs": [
        {
          "output_type": "execute_result",
          "data": {
            "text/plain": [
              "<matplotlib.axes._subplots.AxesSubplot at 0x7f26a1c44210>"
            ]
          },
          "metadata": {},
          "execution_count": 192
        },
        {
          "output_type": "display_data",
          "data": {
            "image/png": "[encoded data removed]",
            "text/plain": [
              "<Figure size 1224x792 with 2 Axes>"
            ]
          },
          "metadata": {
            "needs_background": "light"
          }
        }
      ]
    },
    {
      "cell_type": "code",
      "metadata": {
        "id": "It2fyJt0vGiL"
      },
      "source": [
        "X = DF1.drop(['y'], axis = 1)\n",
        "Y = DF1['y']\n",
        "Ones = np.ones(X.shape[0])\n",
        "X.insert(0,'Bias',Ones)"
      ],
      "execution_count": 193,
      "outputs": []
    },
    {
      "cell_type": "markdown",
      "metadata": {
        "id": "PGBNuGhOyqoE"
      },
      "source": [
        "80%-20% split:"
      ]
    },
    {
      "cell_type": "code",
      "metadata": {
        "id": "wod4WvpItrcY"
      },
      "source": [
        "from sklearn.model_selection import train_test_split\n",
        "# choose random state to randomly sample data 0-11\n",
        "X_train, X_test, Y_train, Y_test = train_test_split(X, Y, test_size = 0.2,random_state = 3)"
      ],
      "execution_count": 194,
      "outputs": []
    },
    {
      "cell_type": "code",
      "metadata": {
        "colab": {
          "base_uri": "https://localhost:8080/"
        },
        "id": "Oqrq2xm9uhEj",
        "outputId": "10be7a07-8e48-4d5c-c12d-f96d04520eb8"
      },
      "source": [
        "len(X_train),len(X_test)"
      ],
      "execution_count": 195,
      "outputs": [
        {
          "output_type": "execute_result",
          "data": {
            "text/plain": [
              "(800, 200)"
            ]
          },
          "metadata": {},
          "execution_count": 195
        }
      ]
    },
    {
      "cell_type": "code",
      "metadata": {
        "colab": {
          "base_uri": "https://localhost:8080/"
        },
        "id": "GixJroSLumia",
        "outputId": "42be1450-042b-403d-d448-9a4fbf75ec2b"
      },
      "source": [
        "X_train_b = np.asarray(X_train)\n",
        "Y_train = np.asarray(Y_train)\n",
        "X_test_b = np.asarray(X_test)\n",
        "len(X_train_b),len(Y_train)"
      ],
      "execution_count": 196,
      "outputs": [
        {
          "output_type": "execute_result",
          "data": {
            "text/plain": [
              "(800, 800)"
            ]
          },
          "metadata": {},
          "execution_count": 196
        }
      ]
    },
    {
      "cell_type": "code",
      "metadata": {
        "id": "2DVtBb3YvvSt"
      },
      "source": [
        "class batch_regressor:\n",
        "  def __init__(self,X):\n",
        "    self.W = np.random.randn(X.shape[1],1)\n",
        "  def fit(self,X, y, learning_rate=0.1, numEpochs=2000):\n",
        "    num_of_samples = len(X)\n",
        "    for epoch in range(numEpochs):\n",
        "      X, y = shuffle(X, y)\n",
        "      delta = (X.T.dot(X.dot(self.W)-y.reshape(-1,1))/num_of_samples)\n",
        "      self.W = self.W - learning_rate * delta\n",
        "      learning_rate = learning_rate/1.02\n",
        "    return self.W\n",
        "  def predict(self,X,W):\n",
        "    return X.dot(W)\n",
        "  def measure(self,y_predict,y_actual):\n",
        "    return np.sqrt(mean_squared_error(y_predict, y_actual))"
      ],
      "execution_count": 197,
      "outputs": []
    },
    {
      "cell_type": "code",
      "metadata": {
        "colab": {
          "base_uri": "https://localhost:8080/"
        },
        "id": "nJnErFk-vxfE",
        "outputId": "0685b99d-679f-44ef-c816-9d5442d0651e"
      },
      "source": [
        "bgd = batch_regressor(X_train_b)\n",
        "w = bgd.fit(X_train_b,Y_train)\n",
        "rmse = bgd.measure(predicted_train,Y_train)\n",
        "print('BGD train error',rmse)"
      ],
      "execution_count": 198,
      "outputs": [
        {
          "output_type": "stream",
          "name": "stdout",
          "text": [
            "BGD train error 141.64085128382587\n"
          ]
        }
      ]
    },
    {
      "cell_type": "code",
      "metadata": {
        "colab": {
          "base_uri": "https://localhost:8080/"
        },
        "id": "_eljjGa2v8rU",
        "outputId": "ad5f56fa-056c-4fcd-8f6d-b47256f40014"
      },
      "source": [
        "predicted_test =bgd.predict(X_test_b,w)\n",
        "rmse = sgd.measure(predicted_test,Y_test)\n",
        "print('BGD test error',rmse)"
      ],
      "execution_count": 199,
      "outputs": [
        {
          "output_type": "stream",
          "name": "stdout",
          "text": [
            "BGD test error 2.591966685242814\n"
          ]
        }
      ]
    },
    {
      "cell_type": "markdown",
      "metadata": {
        "id": "H20a92J8wDhR"
      },
      "source": [
        "***(b) a polynomial of degree 2 (with all the terms)***"
      ]
    },
    {
      "cell_type": "code",
      "metadata": {
        "colab": {
          "base_uri": "https://localhost:8080/",
          "height": 203
        },
        "id": "zBBnS_LOwHo2",
        "outputId": "0b847304-bb39-42a8-8439-6c13b95d9f09"
      },
      "source": [
        "DF2 = df.copy()\n",
        "DF2.insert(2,\"x1_x2\",DF2['x1']*DF2['x2'])\n",
        "DF2.insert(3,\"x1^2\",DF2['x1']**2)\n",
        "DF2.insert(4,\"x2^2\",DF2['x2']**2)\n",
        "DF2.head()"
      ],
      "execution_count": 200,
      "outputs": [
        {
          "output_type": "execute_result",
          "data": {
            "text/html": [
              "<div>\n",
              "<style scoped>\n",
              "    .dataframe tbody tr th:only-of-type {\n",
              "        vertical-align: middle;\n",
              "    }\n",
              "\n",
              "    .dataframe tbody tr th {\n",
              "        vertical-align: top;\n",
              "    }\n",
              "\n",
              "    .dataframe thead th {\n",
              "        text-align: right;\n",
              "    }\n",
              "</style>\n",
              "<table border=\"1\" class=\"dataframe\">\n",
              "  <thead>\n",
              "    <tr style=\"text-align: right;\">\n",
              "      <th></th>\n",
              "      <th>x1</th>\n",
              "      <th>x2</th>\n",
              "      <th>x1_x2</th>\n",
              "      <th>x1^2</th>\n",
              "      <th>x2^2</th>\n",
              "      <th>y</th>\n",
              "    </tr>\n",
              "  </thead>\n",
              "  <tbody>\n",
              "    <tr>\n",
              "      <th>0</th>\n",
              "      <td>-0.358872</td>\n",
              "      <td>-0.577345</td>\n",
              "      <td>0.207193</td>\n",
              "      <td>0.128789</td>\n",
              "      <td>0.333328</td>\n",
              "      <td>-88.971680</td>\n",
              "    </tr>\n",
              "    <tr>\n",
              "      <th>1</th>\n",
              "      <td>0.973464</td>\n",
              "      <td>0.874665</td>\n",
              "      <td>0.851454</td>\n",
              "      <td>0.947631</td>\n",
              "      <td>0.765038</td>\n",
              "      <td>178.038753</td>\n",
              "    </tr>\n",
              "    <tr>\n",
              "      <th>2</th>\n",
              "      <td>-1.058040</td>\n",
              "      <td>1.272313</td>\n",
              "      <td>-1.346159</td>\n",
              "      <td>1.119450</td>\n",
              "      <td>1.618781</td>\n",
              "      <td>31.110954</td>\n",
              "    </tr>\n",
              "    <tr>\n",
              "      <th>3</th>\n",
              "      <td>-1.000812</td>\n",
              "      <td>-1.776465</td>\n",
              "      <td>1.777908</td>\n",
              "      <td>1.001625</td>\n",
              "      <td>3.155829</td>\n",
              "      <td>-266.191887</td>\n",
              "    </tr>\n",
              "    <tr>\n",
              "      <th>4</th>\n",
              "      <td>-1.282205</td>\n",
              "      <td>0.352198</td>\n",
              "      <td>-0.451591</td>\n",
              "      <td>1.644049</td>\n",
              "      <td>0.124044</td>\n",
              "      <td>-82.187957</td>\n",
              "    </tr>\n",
              "  </tbody>\n",
              "</table>\n",
              "</div>"
            ],
            "text/plain": [
              "         x1        x2     x1_x2      x1^2      x2^2           y\n",
              "0 -0.358872 -0.577345  0.207193  0.128789  0.333328  -88.971680\n",
              "1  0.973464  0.874665  0.851454  0.947631  0.765038  178.038753\n",
              "2 -1.058040  1.272313 -1.346159  1.119450  1.618781   31.110954\n",
              "3 -1.000812 -1.776465  1.777908  1.001625  3.155829 -266.191887\n",
              "4 -1.282205  0.352198 -0.451591  1.644049  0.124044  -82.187957"
            ]
          },
          "metadata": {},
          "execution_count": 200
        }
      ]
    },
    {
      "cell_type": "code",
      "metadata": {
        "colab": {
          "base_uri": "https://localhost:8080/",
          "height": 668
        },
        "id": "k5fuqGfMwS-D",
        "outputId": "6bb0d5b9-fa9f-4293-b95b-746c9996b727"
      },
      "source": [
        "plt.figure(figsize=(17,11))\n",
        "sns.heatmap(DF2.corr('pearson'), annot = True)"
      ],
      "execution_count": 201,
      "outputs": [
        {
          "output_type": "execute_result",
          "data": {
            "text/plain": [
              "<matplotlib.axes._subplots.AxesSubplot at 0x7f26a1b98250>"
            ]
          },
          "metadata": {},
          "execution_count": 201
        },
        {
          "output_type": "display_data",
          "data": {
            "image/png": "[encoded data removed]",
            "text/plain": [
              "<Figure size 1224x792 with 2 Axes>"
            ]
          },
          "metadata": {
            "needs_background": "light"
          }
        }
      ]
    },
    {
      "cell_type": "code",
      "metadata": {
        "id": "YX2vSSlPwtkN"
      },
      "source": [
        "X = DF2.drop(['y'], axis = 1)\n",
        "Y = DF2['y']\n",
        "Ones = np.ones(X.shape[0])\n",
        "X.insert(0,'Bias',Ones)"
      ],
      "execution_count": 202,
      "outputs": []
    },
    {
      "cell_type": "code",
      "metadata": {
        "id": "vMBuSqevwygj"
      },
      "source": [
        "from sklearn.model_selection import train_test_split\n",
        "# choose random state to randomly sample data 0-11\n",
        "X_train, X_test, Y_train, Y_test = train_test_split(X, Y, test_size = 0.2,random_state = 3)"
      ],
      "execution_count": 203,
      "outputs": []
    },
    {
      "cell_type": "code",
      "metadata": {
        "colab": {
          "base_uri": "https://localhost:8080/"
        },
        "id": "yB54pzxpw80H",
        "outputId": "761810e6-ad97-4ccb-fcff-09fc710a6a9a"
      },
      "source": [
        "X_train_b = np.asarray(X_train)\n",
        "Y_train = np.asarray(Y_train)\n",
        "X_test_b = np.asarray(X_test)\n",
        "len(X_train_b),len(Y_train)"
      ],
      "execution_count": 204,
      "outputs": [
        {
          "output_type": "execute_result",
          "data": {
            "text/plain": [
              "(800, 800)"
            ]
          },
          "metadata": {},
          "execution_count": 204
        }
      ]
    },
    {
      "cell_type": "code",
      "metadata": {
        "colab": {
          "base_uri": "https://localhost:8080/"
        },
        "id": "6-CPZvCBxAV9",
        "outputId": "fac85389-0160-4cba-bb62-e2934aab7d1e"
      },
      "source": [
        "bgd = batch_regressor(X_train_b)\n",
        "w = bgd.fit(X_train_b,Y_train)\n",
        "rmse = bgd.measure(predicted_train,Y_train)\n",
        "print('BGD train error',rmse)"
      ],
      "execution_count": 205,
      "outputs": [
        {
          "output_type": "stream",
          "name": "stdout",
          "text": [
            "BGD train error 141.64085128382587\n"
          ]
        }
      ]
    },
    {
      "cell_type": "code",
      "metadata": {
        "colab": {
          "base_uri": "https://localhost:8080/"
        },
        "id": "qkbWraJ4xDTr",
        "outputId": "42922e37-d74a-4ccb-b804-426d6ca99ec1"
      },
      "source": [
        "predicted_test =bgd.predict(X_test_b,w)\n",
        "rmse = sgd.measure(predicted_test,Y_test)\n",
        "print('BGD test error',rmse)"
      ],
      "execution_count": 206,
      "outputs": [
        {
          "output_type": "stream",
          "name": "stdout",
          "text": [
            "BGD test error 2.603893913215174\n"
          ]
        }
      ]
    },
    {
      "cell_type": "markdown",
      "metadata": {
        "id": "8cuTI5XXxweH"
      },
      "source": [
        "***(c) a polynomial of degree 3 (with all the terms)***"
      ]
    },
    {
      "cell_type": "code",
      "metadata": {
        "colab": {
          "base_uri": "https://localhost:8080/",
          "height": 203
        },
        "id": "SzQOkgWlx7eT",
        "outputId": "a2e0f307-ff91-4f0a-9626-7bcab5ab50f2"
      },
      "source": [
        "DF3 = df.copy()\n",
        "DF3.insert(2,\"x1_x2\",DF3['x1']*DF3['x2'])\n",
        "DF3.insert(3,\"x1^2\",DF3['x1']**2)\n",
        "DF3.insert(4,\"x2^2\",DF3['x2']**2)\n",
        "DF3.insert(5,\"x1^2_x2\",DF3['x1^2']*DF3['x2'])\n",
        "DF3.insert(6,\"x1_x2^2\",DF3['x1']*DF3['x2^2'])\n",
        "DF3.insert(7,\"x1^2_x2^2\",DF3['x1^2']*DF3['x2^2'])\n",
        "DF3.insert(8,\"x1^3\",DF3['x1']**3)\n",
        "DF3.insert(9,\"x2^3\",DF3['x2']**3)\n",
        "DF3.head()"
      ],
      "execution_count": 207,
      "outputs": [
        {
          "output_type": "execute_result",
          "data": {
            "text/html": [
              "<div>\n",
              "<style scoped>\n",
              "    .dataframe tbody tr th:only-of-type {\n",
              "        vertical-align: middle;\n",
              "    }\n",
              "\n",
              "    .dataframe tbody tr th {\n",
              "        vertical-align: top;\n",
              "    }\n",
              "\n",
              "    .dataframe thead th {\n",
              "        text-align: right;\n",
              "    }\n",
              "</style>\n",
              "<table border=\"1\" class=\"dataframe\">\n",
              "  <thead>\n",
              "    <tr style=\"text-align: right;\">\n",
              "      <th></th>\n",
              "      <th>x1</th>\n",
              "      <th>x2</th>\n",
              "      <th>x1_x2</th>\n",
              "      <th>x1^2</th>\n",
              "      <th>x2^2</th>\n",
              "      <th>x1^2_x2</th>\n",
              "      <th>x1_x2^2</th>\n",
              "      <th>x1^2_x2^2</th>\n",
              "      <th>x1^3</th>\n",
              "      <th>x2^3</th>\n",
              "      <th>y</th>\n",
              "    </tr>\n",
              "  </thead>\n",
              "  <tbody>\n",
              "    <tr>\n",
              "      <th>0</th>\n",
              "      <td>-0.358872</td>\n",
              "      <td>-0.577345</td>\n",
              "      <td>0.207193</td>\n",
              "      <td>0.128789</td>\n",
              "      <td>0.333328</td>\n",
              "      <td>-0.074356</td>\n",
              "      <td>-0.119622</td>\n",
              "      <td>0.042929</td>\n",
              "      <td>-0.046219</td>\n",
              "      <td>-0.192445</td>\n",
              "      <td>-88.971680</td>\n",
              "    </tr>\n",
              "    <tr>\n",
              "      <th>1</th>\n",
              "      <td>0.973464</td>\n",
              "      <td>0.874665</td>\n",
              "      <td>0.851454</td>\n",
              "      <td>0.947631</td>\n",
              "      <td>0.765038</td>\n",
              "      <td>0.828860</td>\n",
              "      <td>0.744737</td>\n",
              "      <td>0.724974</td>\n",
              "      <td>0.922485</td>\n",
              "      <td>0.669152</td>\n",
              "      <td>178.038753</td>\n",
              "    </tr>\n",
              "    <tr>\n",
              "      <th>2</th>\n",
              "      <td>-1.058040</td>\n",
              "      <td>1.272313</td>\n",
              "      <td>-1.346159</td>\n",
              "      <td>1.119450</td>\n",
              "      <td>1.618781</td>\n",
              "      <td>1.424291</td>\n",
              "      <td>-1.712736</td>\n",
              "      <td>1.812144</td>\n",
              "      <td>-1.184423</td>\n",
              "      <td>2.059597</td>\n",
              "      <td>31.110954</td>\n",
              "    </tr>\n",
              "    <tr>\n",
              "      <th>3</th>\n",
              "      <td>-1.000812</td>\n",
              "      <td>-1.776465</td>\n",
              "      <td>1.777908</td>\n",
              "      <td>1.001625</td>\n",
              "      <td>3.155829</td>\n",
              "      <td>-1.779351</td>\n",
              "      <td>-3.158391</td>\n",
              "      <td>3.160956</td>\n",
              "      <td>-1.002438</td>\n",
              "      <td>-5.606221</td>\n",
              "      <td>-266.191887</td>\n",
              "    </tr>\n",
              "    <tr>\n",
              "      <th>4</th>\n",
              "      <td>-1.282205</td>\n",
              "      <td>0.352198</td>\n",
              "      <td>-0.451591</td>\n",
              "      <td>1.644049</td>\n",
              "      <td>0.124044</td>\n",
              "      <td>0.579032</td>\n",
              "      <td>-0.159049</td>\n",
              "      <td>0.203934</td>\n",
              "      <td>-2.108008</td>\n",
              "      <td>0.043688</td>\n",
              "      <td>-82.187957</td>\n",
              "    </tr>\n",
              "  </tbody>\n",
              "</table>\n",
              "</div>"
            ],
            "text/plain": [
              "         x1        x2     x1_x2  ...      x1^3      x2^3           y\n",
              "0 -0.358872 -0.577345  0.207193  ... -0.046219 -0.192445  -88.971680\n",
              "1  0.973464  0.874665  0.851454  ...  0.922485  0.669152  178.038753\n",
              "2 -1.058040  1.272313 -1.346159  ... -1.184423  2.059597   31.110954\n",
              "3 -1.000812 -1.776465  1.777908  ... -1.002438 -5.606221 -266.191887\n",
              "4 -1.282205  0.352198 -0.451591  ... -2.108008  0.043688  -82.187957\n",
              "\n",
              "[5 rows x 11 columns]"
            ]
          },
          "metadata": {},
          "execution_count": 207
        }
      ]
    },
    {
      "cell_type": "code",
      "metadata": {
        "colab": {
          "base_uri": "https://localhost:8080/",
          "height": 668
        },
        "id": "y1zx_OI8yMBu",
        "outputId": "a242a94a-3397-418b-e23f-302d6f887b2b"
      },
      "source": [
        "plt.figure(figsize=(17,11))\n",
        "sns.heatmap(DF3.corr('pearson'), annot = True)"
      ],
      "execution_count": 208,
      "outputs": [
        {
          "output_type": "execute_result",
          "data": {
            "text/plain": [
              "<matplotlib.axes._subplots.AxesSubplot at 0x7f26a1ed8150>"
            ]
          },
          "metadata": {},
          "execution_count": 208
        },
        {
          "output_type": "display_data",
          "data": {
            "image/png": "[encoded data removed]",
            "text/plain": [
              "<Figure size 1224x792 with 2 Axes>"
            ]
          },
          "metadata": {
            "needs_background": "light"
          }
        }
      ]
    },
    {
      "cell_type": "code",
      "metadata": {
        "id": "NwOCLTLQyU0b"
      },
      "source": [
        "X = DF3.drop(['y'], axis = 1)\n",
        "Y = DF3['y']\n",
        "Ones = np.ones(X.shape[0])\n",
        "X.insert(0,'Bias',Ones)"
      ],
      "execution_count": 209,
      "outputs": []
    },
    {
      "cell_type": "code",
      "metadata": {
        "id": "4BZD6oWoyZpO"
      },
      "source": [
        "from sklearn.model_selection import train_test_split\n",
        "# choose random state to randomly sample data 0-11\n",
        "X_train, X_test, Y_train, Y_test = train_test_split(X, Y, test_size = 0.2,random_state = 3)"
      ],
      "execution_count": 210,
      "outputs": []
    },
    {
      "cell_type": "code",
      "metadata": {
        "colab": {
          "base_uri": "https://localhost:8080/"
        },
        "id": "09FJR5gfycax",
        "outputId": "8f34f497-24c5-441c-f70e-5d39fcfa64ba"
      },
      "source": [
        "X_train_b = np.asarray(X_train)\n",
        "Y_train = np.asarray(Y_train)\n",
        "X_test_b = np.asarray(X_test)\n",
        "len(X_train_b),len(Y_train)"
      ],
      "execution_count": 211,
      "outputs": [
        {
          "output_type": "execute_result",
          "data": {
            "text/plain": [
              "(800, 800)"
            ]
          },
          "metadata": {},
          "execution_count": 211
        }
      ]
    },
    {
      "cell_type": "code",
      "metadata": {
        "colab": {
          "base_uri": "https://localhost:8080/"
        },
        "id": "MkPNToFPyfcO",
        "outputId": "72c1fb40-0430-4b8b-89b3-d98350843174"
      },
      "source": [
        "bgd = batch_regressor(X_train_b)\n",
        "w = bgd.fit(X_train_b,Y_train)\n",
        "rmse = bgd.measure(predicted_train,Y_train)\n",
        "print('BGD train error',rmse)"
      ],
      "execution_count": 212,
      "outputs": [
        {
          "output_type": "stream",
          "name": "stdout",
          "text": [
            "BGD train error 141.64085128382587\n"
          ]
        }
      ]
    },
    {
      "cell_type": "code",
      "metadata": {
        "colab": {
          "base_uri": "https://localhost:8080/"
        },
        "id": "B9lj_fNoyisy",
        "outputId": "5d5ed3d1-1a5c-4e35-e098-b0c37d5e4a44"
      },
      "source": [
        "predicted_test =bgd.predict(X_test_b,w)\n",
        "rmse = sgd.measure(predicted_test,Y_test)\n",
        "print('BGD test error',rmse)"
      ],
      "execution_count": 213,
      "outputs": [
        {
          "output_type": "stream",
          "name": "stdout",
          "text": [
            "BGD test error 14.13977540660632\n"
          ]
        }
      ]
    },
    {
      "cell_type": "markdown",
      "metadata": {
        "id": "4mQYf7kqynWK"
      },
      "source": [
        "Since the training error of all the above three cases are the same (124.604), we can just compare the test error values.\n",
        "\n",
        "So from the results, we can see that models with polynomial of degree 1 and 2 are the best (2.648 and 2.664), as both same similar test error values with negligible difference. Degree 3 is not a good hypothesis as its test error value is 21.952"
      ]
    },
    {
      "cell_type": "markdown",
      "metadata": {
        "id": "qycuEOkQzhYC"
      },
      "source": [
        "**5) Generate a dataset D with `make regression' (choose the noise\n",
        "parameter as zero) which has 1000 data points with two input\n",
        "features. create a sequence of datasets D1,D2,D3,D4,D5 from D\n",
        "by injecting 20%, 40%, 60%,80% 0%,100% of noise respectively.**\n",
        "\n",
        "***(a) Using D,D1,D2,D3,D4,D5,D6 Train the `multiple linear re-\n",
        "gression model(Stochastic Gradient Descent)' separately with\n",
        "a polynomial of degree 1. In each experiment , have the train-\n",
        "ing data and the test in the ratio of 75:25.***"
      ]
    },
    {
      "cell_type": "code",
      "metadata": {
        "id": "en4Akhp-UH-6"
      },
      "source": [
        "import numpy as np\n",
        "import pandas as pd\n",
        "import matplotlib.pyplot as plt\n",
        "import seaborn as sns\n",
        "from sklearn.metrics import mean_squared_error\n",
        "from sklearn.datasets import make_regression"
      ],
      "execution_count": 214,
      "outputs": []
    },
    {
      "cell_type": "code",
      "metadata": {
        "colab": {
          "base_uri": "https://localhost:8080/",
          "height": 203
        },
        "id": "qWuFEzzwTybV",
        "outputId": "f2648c94-894f-4a3a-8d59-1e6c995988f2"
      },
      "source": [
        "data = make_regression(n_samples=1000, n_features=2, n_informative=2,n_targets=1,bias=0.0,noise=0.0, shuffle=True, coef=False)\n",
        "D = pd.DataFrame(data[0],columns=['x'+str(i) for i in range(1,3)])\n",
        "D['y'] = data[1]\n",
        "D.head()"
      ],
      "execution_count": 215,
      "outputs": [
        {
          "output_type": "execute_result",
          "data": {
            "text/html": [
              "<div>\n",
              "<style scoped>\n",
              "    .dataframe tbody tr th:only-of-type {\n",
              "        vertical-align: middle;\n",
              "    }\n",
              "\n",
              "    .dataframe tbody tr th {\n",
              "        vertical-align: top;\n",
              "    }\n",
              "\n",
              "    .dataframe thead th {\n",
              "        text-align: right;\n",
              "    }\n",
              "</style>\n",
              "<table border=\"1\" class=\"dataframe\">\n",
              "  <thead>\n",
              "    <tr style=\"text-align: right;\">\n",
              "      <th></th>\n",
              "      <th>x1</th>\n",
              "      <th>x2</th>\n",
              "      <th>y</th>\n",
              "    </tr>\n",
              "  </thead>\n",
              "  <tbody>\n",
              "    <tr>\n",
              "      <th>0</th>\n",
              "      <td>0.388844</td>\n",
              "      <td>0.852406</td>\n",
              "      <td>45.621395</td>\n",
              "    </tr>\n",
              "    <tr>\n",
              "      <th>1</th>\n",
              "      <td>-0.303138</td>\n",
              "      <td>0.883953</td>\n",
              "      <td>-14.829514</td>\n",
              "    </tr>\n",
              "    <tr>\n",
              "      <th>2</th>\n",
              "      <td>0.258710</td>\n",
              "      <td>1.029254</td>\n",
              "      <td>36.541754</td>\n",
              "    </tr>\n",
              "    <tr>\n",
              "      <th>3</th>\n",
              "      <td>1.131998</td>\n",
              "      <td>-0.683884</td>\n",
              "      <td>90.423165</td>\n",
              "    </tr>\n",
              "    <tr>\n",
              "      <th>4</th>\n",
              "      <td>-2.427801</td>\n",
              "      <td>-0.498748</td>\n",
              "      <td>-220.251475</td>\n",
              "    </tr>\n",
              "  </tbody>\n",
              "</table>\n",
              "</div>"
            ],
            "text/plain": [
              "         x1        x2           y\n",
              "0  0.388844  0.852406   45.621395\n",
              "1 -0.303138  0.883953  -14.829514\n",
              "2  0.258710  1.029254   36.541754\n",
              "3  1.131998 -0.683884   90.423165\n",
              "4 -2.427801 -0.498748 -220.251475"
            ]
          },
          "metadata": {},
          "execution_count": 215
        }
      ]
    },
    {
      "cell_type": "code",
      "metadata": {
        "id": "3BS0m93wUour"
      },
      "source": [
        "noise1 = np.random.normal(0, 0.2,[1000,3])\n",
        "noise2 = np.random.normal(0, .4, [1000,3])\n",
        "noise3 = np.random.normal(0, .6, [1000,3])\n",
        "noise4 = np.random.normal(0, .8, [1000,3])\n",
        "noise5 = np.random.normal(0, 0, [1000,3])\n",
        "noise6 = np.random.normal(0, 1, [1000,3])\n",
        "D1 = D + noise1\n",
        "D2 = D + noise2\n",
        "D3 = D + noise3\n",
        "D4 = D + noise4\n",
        "D5 = D + noise5\n",
        "D6 = D + noise6"
      ],
      "execution_count": 216,
      "outputs": []
    },
    {
      "cell_type": "code",
      "metadata": {
        "id": "6Ey4lOaIVq1X"
      },
      "source": [
        "from sklearn.model_selection import train_test_split\n",
        "from sklearn.preprocessing import MinMaxScaler"
      ],
      "execution_count": 217,
      "outputs": []
    },
    {
      "cell_type": "code",
      "metadata": {
        "id": "mFtCZAf4WB7s"
      },
      "source": [
        "from sklearn.utils import shuffle\n",
        "class sgd_regressor:\n",
        "  def __init__(self,X):\n",
        "    self.W = np.random.randn(X.shape[1],1)\n",
        "  def fit(self,X, y, learning_rate=0.1, numEpochs=2000):\n",
        "    num_of_samples = len(X)\n",
        "    xbShuffled, yShuffled = shuffle(X, y)\n",
        "    for epoch in range(numEpochs):\n",
        "      for i in range(num_of_samples):\n",
        "        X = xbShuffled[i:i+1]\n",
        "        yi = yShuffled[i:i+1]\n",
        "        delta = X.T.dot(X.dot(self.W)-yi.reshape(-1,1))\n",
        "        self.W = self.W - learning_rate * delta\n",
        "      learning_rate = learning_rate/1.02\n",
        "    return self.W\n",
        "  def predict(self,X,W):\n",
        "    return X.dot(W)\n",
        "  def measure(self,y_predict,y_actual):\n",
        "    return np.sqrt(mean_squared_error(y_predict, y_actual))"
      ],
      "execution_count": 218,
      "outputs": []
    },
    {
      "cell_type": "code",
      "metadata": {
        "id": "MpA6ucaPU-dy"
      },
      "source": [
        "def sgd_perfomence(dataframe):\n",
        "  X = dataframe.drop(['y'], axis = 1)\n",
        "  Y = dataframe['y']\n",
        "  Ones = np.ones(X.shape[0])\n",
        "  X.insert(0,'Bias',Ones)\n",
        "  #75:25 ; train:test split\n",
        "  X_train, X_test, Y_train, Y_test = train_test_split(X, Y, test_size = 0.25,random_state = 3)\n",
        "  scaler = MinMaxScaler(feature_range=(0,1))\n",
        "  X_train = scaler.fit_transform(X_train)\n",
        "  X_test = scaler.transform(X_test)\n",
        "  X_train_b = np.asarray(X_train)\n",
        "  Y_train = np.asarray(Y_train)\n",
        "  X_test_b = np.asarray(X_test)\n",
        "  sgd = sgd_regressor(X_train_b)\n",
        "  w = sgd.fit(X_train_b,Y_train)\n",
        "  predicted_train =sgd.predict(X_train_b,w)\n",
        "  rmse_train = sgd.measure(predicted_train,Y_train)\n",
        "  predicted_test =sgd.predict(X_test_b,w)\n",
        "  rmse_test = sgd.measure(predicted_test,Y_test)\n",
        "  avg = (rmse_train + rmse_test)/2\n",
        "  print(\"SGD train error: \",rmse_train)\n",
        "  print(\"SGD tesr error: \",rmse_test)\n",
        "  return(avg)"
      ],
      "execution_count": 219,
      "outputs": []
    },
    {
      "cell_type": "markdown",
      "metadata": {
        "id": "tKDN3YtKXCvD"
      },
      "source": [
        "***(b) Compute the performance of the model as the average of the\n",
        "training data error and the test data error.***"
      ]
    },
    {
      "cell_type": "code",
      "metadata": {
        "colab": {
          "base_uri": "https://localhost:8080/"
        },
        "id": "GuE1HphKXgB_",
        "outputId": "0ab5625c-6ae0-48d9-ef67-7d8bff6a1018"
      },
      "source": [
        "a0 = sgd_perfomence(D)\n",
        "print(\"Performance of D: \",a0)"
      ],
      "execution_count": 220,
      "outputs": [
        {
          "output_type": "stream",
          "name": "stdout",
          "text": [
            "SGD train error:  72.51196016962733\n",
            "SGD tesr error:  72.04485740939704\n",
            "Performance of D:  72.27840878951218\n"
          ]
        }
      ]
    },
    {
      "cell_type": "code",
      "metadata": {
        "colab": {
          "base_uri": "https://localhost:8080/"
        },
        "id": "0lHvNCahW_7j",
        "outputId": "612117e1-c689-4ec5-b391-dbf85afa8ee1"
      },
      "source": [
        "a1 = sgd_perfomence(D1)\n",
        "print(\"Performance of D1: \",a1)"
      ],
      "execution_count": 221,
      "outputs": [
        {
          "output_type": "stream",
          "name": "stdout",
          "text": [
            "SGD train error:  73.01040234127198\n",
            "SGD tesr error:  73.35126877799397\n",
            "Performance of D1:  73.18083555963298\n"
          ]
        }
      ]
    },
    {
      "cell_type": "code",
      "metadata": {
        "colab": {
          "base_uri": "https://localhost:8080/"
        },
        "id": "HBcRDNB9Xs6x",
        "outputId": "45d5b387-6261-42e6-afd1-363f99979352"
      },
      "source": [
        "a2 = sgd_perfomence(D2)\n",
        "print(\"Performance of D2: \",a2)"
      ],
      "execution_count": 222,
      "outputs": [
        {
          "output_type": "stream",
          "name": "stdout",
          "text": [
            "SGD train error:  75.43096116890646\n",
            "SGD tesr error:  73.35519107983338\n",
            "Performance of D2:  74.39307612436991\n"
          ]
        }
      ]
    },
    {
      "cell_type": "code",
      "metadata": {
        "colab": {
          "base_uri": "https://localhost:8080/"
        },
        "id": "v4pBDEsDX0XT",
        "outputId": "11f51574-7570-4847-e917-66907142ab7f"
      },
      "source": [
        "a3 = sgd_perfomence(D3)\n",
        "print(\"Performance of D3: \",a3)"
      ],
      "execution_count": 223,
      "outputs": [
        {
          "output_type": "stream",
          "name": "stdout",
          "text": [
            "SGD train error:  76.70010379788422\n",
            "SGD tesr error:  74.66647253836292\n",
            "Performance of D3:  75.68328816812357\n"
          ]
        }
      ]
    },
    {
      "cell_type": "code",
      "metadata": {
        "colab": {
          "base_uri": "https://localhost:8080/"
        },
        "id": "o2x8Hul7X4LP",
        "outputId": "f1c487f0-1b36-4232-eedc-7591c004d7cf"
      },
      "source": [
        "a4 = sgd_perfomence(D4)\n",
        "print(\"Performance of D4: \",a4)"
      ],
      "execution_count": 224,
      "outputs": [
        {
          "output_type": "stream",
          "name": "stdout",
          "text": [
            "SGD train error:  79.62840017616543\n",
            "SGD tesr error:  77.30897713814541\n",
            "Performance of D4:  78.46868865715541\n"
          ]
        }
      ]
    },
    {
      "cell_type": "code",
      "metadata": {
        "colab": {
          "base_uri": "https://localhost:8080/"
        },
        "id": "PAGEv9sNX8J8",
        "outputId": "0159e411-fd5a-4741-96f1-2bdb90c3961e"
      },
      "source": [
        "a5 = sgd_perfomence(D5)\n",
        "print(\"Performance of D5: \",a5)"
      ],
      "execution_count": 225,
      "outputs": [
        {
          "output_type": "stream",
          "name": "stdout",
          "text": [
            "SGD train error:  72.51196450985795\n",
            "SGD tesr error:  72.04691064444894\n",
            "Performance of D5:  72.27943757715344\n"
          ]
        }
      ]
    },
    {
      "cell_type": "code",
      "metadata": {
        "colab": {
          "base_uri": "https://localhost:8080/"
        },
        "id": "JEdMGey3X-um",
        "outputId": "92578249-c31b-489e-b993-587f39138e2e"
      },
      "source": [
        "a6 = sgd_perfomence(D6)\n",
        "print(\"Performance of D6: \",a6)"
      ],
      "execution_count": 226,
      "outputs": [
        {
          "output_type": "stream",
          "name": "stdout",
          "text": [
            "SGD train error:  82.28504672848916\n",
            "SGD tesr error:  79.63501547557053\n",
            "Performance of D6:  80.96003110202984\n"
          ]
        }
      ]
    },
    {
      "cell_type": "markdown",
      "metadata": {
        "id": "pvjN0LujYLLQ"
      },
      "source": [
        "***(c) Plot the graph : noise Vs error.***\n",
        "\n",
        "***(d) Based on the results of the experiment, comment on the state-\n",
        "ment: ` more noise in the data set, less accuracy'***"
      ]
    },
    {
      "cell_type": "code",
      "metadata": {
        "colab": {
          "base_uri": "https://localhost:8080/",
          "height": 295
        },
        "id": "Ch2XZ-p7YLaH",
        "outputId": "242391cd-39c0-4613-ec58-c5db4f4c72bc"
      },
      "source": [
        "import matplotlib.pyplot as plt\n",
        "x = [0,0.2,0.4,0.6,0.8,1]\n",
        "y = [a5,a1,a2,a3,a4,a6]\n",
        "plt.plot(x, y)\n",
        "plt.xlabel('Noise')\n",
        "plt.ylabel('Perfomence')\n",
        "plt.title('Noise vs Error')\n",
        "plt.show()"
      ],
      "execution_count": 227,
      "outputs": [
        {
          "output_type": "display_data",
          "data": {
            "image/png": "[encoded data removed]",
            "text/plain": [
              "<Figure size 432x288 with 1 Axes>"
            ]
          },
          "metadata": {
            "needs_background": "light"
          }
        }
      ]
    },
    {
      "cell_type": "markdown",
      "metadata": {
        "id": "mW2Sv0jMZEn0"
      },
      "source": [
        "Although there is a slight devition in the perfomence of the datatset with 80% noise, the phrase ` more noise in the data set, less accuracy' checks out as increase in noise percentage also indicates an increase in error."
      ]
    }
  ]
}