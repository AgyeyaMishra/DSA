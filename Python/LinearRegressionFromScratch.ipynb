{
  "cells": [
    {
      "cell_type": "markdown",
      "metadata": {
        "id": "jEOQagClOPS3"
      },
      "source": [
        "**Import** **Libraries**"
      ]
    },
    {
      "cell_type": "code",
      "execution_count": 1,
      "metadata": {
        "id": "mhZQTxfsfY2L"
      },
      "outputs": [],
      "source": [
        "import numpy as np\n",
        "#%matplotlib notebook\n",
        "%matplotlib inline\n",
        "import matplotlib.pyplot as plt\n",
        "from IPython.core.debugger import set_trace\n",
        "import warnings\n",
        "warnings.filterwarnings('ignore')"
      ]
    },
    {
      "cell_type": "markdown",
      "metadata": {
        "id": "RdY398CtOUG9"
      },
      "source": [
        "**Stochastic Gradient Descent**"
      ]
    },
    {
      "cell_type": "code",
      "execution_count": 2,
      "metadata": {
        "id": "fa3GgubSfY2R"
      },
      "outputs": [],
      "source": [
        "class GradientDescent:\n",
        "    \n",
        "    def __init__(self, learning_rate=.001, max_iters=1e4, epsilon=1e-8):\n",
        "        self.learning_rate = learning_rate\n",
        "        self.max_iters = max_iters\n",
        "        self.epsilon = epsilon\n",
        "            \n",
        "    def run(self, gradient_fn, x, y, w):\n",
        "        grad = np.inf\n",
        "        t = 1\n",
        "        while np.linalg.norm(grad) > self.epsilon and t < self.max_iters:\n",
        "            grad = gradient_fn(x, y, w)               # compute the gradient with present weight\n",
        "            w = w - self.learning_rate * grad         # weight update step\n",
        "            t += 1\n",
        "        return w"
      ]
    },
    {
      "cell_type": "markdown",
      "metadata": {
        "id": "n5OMQayBQZE0"
      },
      "source": [
        "**Linear Regression From Scratch**"
      ]
    },
    {
      "cell_type": "code",
      "execution_count": 3,
      "metadata": {
        "id": "b4N-8BQwfY2U"
      },
      "outputs": [],
      "source": [
        "class LinearRegression:\n",
        "    def __init__(self, add_bias=True):\n",
        "        self.add_bias = add_bias\n",
        "        pass\n",
        "            \n",
        "    def fit(self, x, y, optimizer):\n",
        "        if x.ndim == 1:\n",
        "            x = x[:, None]\n",
        "        if self.add_bias:\n",
        "            N = x.shape[0]\n",
        "            x = np.column_stack([x,np.ones(N)])\n",
        "        N,D = x.shape\n",
        "        def gradient(x, y, w):                          # define the gradient function\n",
        "            yh =  x @ w \n",
        "            N, D = x.shape\n",
        "            grad = .5*np.dot(yh - y, x)/N\n",
        "            return grad\n",
        "        w0 = np.zeros(D)                                # initialize the weights to 0\n",
        "        self.w = optimizer.run(gradient, x, y, w0)      # run the optimizer to get the optimal weights\n",
        "        return self\n",
        "    \n",
        "    def predict(self, x):\n",
        "        if self.add_bias:\n",
        "            x = np.column_stack([x,np.ones(N)])\n",
        "        yh = x@self.w\n",
        "        return yh"
      ]
    },
    {
      "cell_type": "markdown",
      "metadata": {
        "id": "lApb8nLYQgHM"
      },
      "source": [
        "**Running Model**\n"
      ]
    },
    {
      "cell_type": "code",
      "execution_count": 12,
      "metadata": {
        "colab": {
          "base_uri": "https://localhost:8080/",
          "height": 279
        },
        "id": "zKvK2buFfY2Y",
        "outputId": "05474d36-2160-4810-a31e-79c27520e60c"
      },
      "outputs": [
        {
          "data": {
            "image/png": "[encoded data removed]",
            "text/plain": [
              "<Figure size 432x288 with 1 Axes>"
            ]
          },
          "metadata": {
            "needs_background": "light"
          },
          "output_type": "display_data"
        }
      ],
      "source": [
        "N = 100\n",
        "x = np.random.rand(N) * 10\n",
        "y = -5*x + 10 + 2*np.random.randn(N)\n",
        "optimizer = GradientDescent(learning_rate=.1, max_iters=100)\n",
        "model = LinearRegression()\n",
        "model.fit(x,y, optimizer)\n",
        "plt.plot(x, y, '.')\n",
        "plt.xlabel('x')\n",
        "plt.ylabel(r'$y=xw_1 + w_0$')\n",
        "plt.show()"
      ]
    }
  ],
  "metadata": {
    "colab": {
      "provenance": []
    },
    "kernelspec": {
      "display_name": "Python 3",
      "name": "python3"
    },
    "language_info": {
      "name": "python"
    }
  },
  "nbformat": 4,
  "nbformat_minor": 0
}
